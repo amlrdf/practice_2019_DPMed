{
 "cells": [
  {
   "cell_type": "markdown",
   "metadata": {},
   "source": [
    "# More Advanced Pandas & Intro to Matplotlib"
   ]
  },
  {
   "cell_type": "code",
   "execution_count": 1,
   "metadata": {
    "collapsed": true,
    "scrolled": true
   },
   "outputs": [],
   "source": [
    "#load libraries\n",
    "import matplotlib.pyplot as plt\n",
    "import pandas as pd\n",
    "import numpy as np"
   ]
  },
  {
   "cell_type": "markdown",
   "metadata": {},
   "source": [
    "# Reviewing .iloc/.loc/.ix \n",
    "\n",
    "*.iloc* = iloc works based on integer positioning( EXCLUDES stop range value)<br> </br>\n",
    "*.loc* = loc works on named indices (includes the stop range value ) <br> </br>\n",
    "*.ix* = ix works on mixed types (includes the stop range value )<br> </br>\n",
    "\n",
    "check: https://www.youtube.com/watch?v=xvpNA7bC8cs&t=1166s"
   ]
  },
  {
   "cell_type": "markdown",
   "metadata": {},
   "source": [
    "# Working with missing data"
   ]
  },
  {
   "cell_type": "markdown",
   "metadata": {},
   "source": [
    "Pandas uses 'NaN' (not a number) as its default missing value argument. Missing data is considered values in a dataset that is not present. We must explicitly tell Pandas what we are calling a missing value."
   ]
  },
  {
   "cell_type": "code",
   "execution_count": 2,
   "metadata": {
    "scrolled": true
   },
   "outputs": [
    {
     "data": {
      "text/html": [
       "<div>\n",
       "<style>\n",
       "    .dataframe thead tr:only-child th {\n",
       "        text-align: right;\n",
       "    }\n",
       "\n",
       "    .dataframe thead th {\n",
       "        text-align: left;\n",
       "    }\n",
       "\n",
       "    .dataframe tbody tr th {\n",
       "        vertical-align: top;\n",
       "    }\n",
       "</style>\n",
       "<table border=\"1\" class=\"dataframe\">\n",
       "  <thead>\n",
       "    <tr style=\"text-align: right;\">\n",
       "      <th></th>\n",
       "      <th>a</th>\n",
       "      <th>b</th>\n",
       "      <th>c</th>\n",
       "      <th>d</th>\n",
       "    </tr>\n",
       "  </thead>\n",
       "  <tbody>\n",
       "    <tr>\n",
       "      <th>0</th>\n",
       "      <td>1</td>\n",
       "      <td>10</td>\n",
       "      <td>100</td>\n",
       "      <td>NaN</td>\n",
       "    </tr>\n",
       "    <tr>\n",
       "      <th>1</th>\n",
       "      <td>2</td>\n",
       "      <td>NaN</td>\n",
       "      <td>200</td>\n",
       "      <td>NaN</td>\n",
       "    </tr>\n",
       "    <tr>\n",
       "      <th>2</th>\n",
       "      <td>3</td>\n",
       "      <td>30</td>\n",
       "      <td>NaN</td>\n",
       "      <td>NaN</td>\n",
       "    </tr>\n",
       "    <tr>\n",
       "      <th>3</th>\n",
       "      <td>4</td>\n",
       "      <td>40</td>\n",
       "      <td>NaN</td>\n",
       "      <td>4000</td>\n",
       "    </tr>\n",
       "    <tr>\n",
       "      <th>4</th>\n",
       "      <td>5</td>\n",
       "      <td>50</td>\n",
       "      <td>500</td>\n",
       "      <td>5000</td>\n",
       "    </tr>\n",
       "  </tbody>\n",
       "</table>\n",
       "</div>"
      ],
      "text/plain": [
       "   a    b    c     d\n",
       "0  1   10  100   NaN\n",
       "1  2  NaN  200   NaN\n",
       "2  3   30  NaN   NaN\n",
       "3  4   40  NaN  4000\n",
       "4  5   50  500  5000"
      ]
     },
     "execution_count": 2,
     "metadata": {},
     "output_type": "execute_result"
    }
   ],
   "source": [
    "df2 = pd.DataFrame({'a':[1,2,3,4,5],'b':[10,'NaN',30,40,50],'c':[100,200,'NaN','NaN',500],'d':['NaN','NaN','NaN',4000,5000]})\n",
    "df2\n"
   ]
  },
  {
   "cell_type": "code",
   "execution_count": null,
   "metadata": {
    "collapsed": true,
    "scrolled": true
   },
   "outputs": [],
   "source": [
    "# Count the number of missing values in Each row DEMO\n"
   ]
  },
  {
   "cell_type": "markdown",
   "metadata": {},
   "source": [
    "Null needs to be specified; We must always check to see how pandas interprets missing values\n",
    "\n",
    "*Review how we loaded the files from last week and how we explicitly told pandas where the missing values are*"
   ]
  },
  {
   "cell_type": "code",
   "execution_count": null,
   "metadata": {
    "collapsed": true,
    "scrolled": true
   },
   "outputs": [],
   "source": [
    "# We can use the numpy to specify\n",
    "df2 = df2.replace('NaN',np.nan)\n",
    "print(df2.isnull())"
   ]
  },
  {
   "cell_type": "code",
   "execution_count": null,
   "metadata": {
    "collapsed": true,
    "scrolled": false
   },
   "outputs": [],
   "source": [
    "# create a new column and sum the number of missing values across the row\n",
    "df2['Missing_Values'] =df2.isnull().sum(axis=1)\n",
    "df2"
   ]
  },
  {
   "cell_type": "markdown",
   "metadata": {
    "collapsed": true
   },
   "source": [
    "# More Advanced Data Wrangling in Pandas\n",
    "\n",
    "\n",
    "PANDAS provides various facilities for easily combining together Series, DataFrame, etc objects with various kinds of set logic for the indexes and relational functionality in the case of join / merge-type operations."
   ]
  },
  {
   "cell_type": "markdown",
   "metadata": {},
   "source": [
    "# <font color='red'> Concatenating Dataframes </font>\n",
    "\n",
    "\n",
    "**Concat**:  concat function in Pandas is used to append either columns or rows from one DataFrame to another. When we concatenate our DataFrames we simply add them to each other - stacking them either vertically or side by side.\n"
   ]
  },
  {
   "cell_type": "markdown",
   "metadata": {},
   "source": [
    "### <font color='blue'> Concat Example </font> "
   ]
  },
  {
   "cell_type": "code",
   "execution_count": null,
   "metadata": {
    "collapsed": true,
    "scrolled": true
   },
   "outputs": [],
   "source": [
    "raw_data = {\n",
    "        'subject_id': ['1', '2', '3', '4', '5'],\n",
    "        'first_name': ['Alex', 'Amy', 'Allen', 'Alice', 'Ayoung'],\n",
    "        'last_name': ['Anderson', 'Ackerman', 'Ali', 'Aoni', 'Atiches']}\n",
    "df_a = pd.DataFrame(raw_data, columns = ['subject_id', 'first_name', 'last_name'])\n",
    "df_a"
   ]
  },
  {
   "cell_type": "code",
   "execution_count": null,
   "metadata": {
    "collapsed": true,
    "scrolled": true
   },
   "outputs": [],
   "source": [
    "raw_data2 = {\n",
    "        'subject_id': ['4', '5', '6', '7', '8'],\n",
    "        'first_name': ['Billy', 'Brian', 'Bran', 'Bryce', 'Betty'],\n",
    "        'last_name': ['Bonder', 'Black', 'Balwner', 'Brice', 'Btisan']}\n",
    "df_b = pd.DataFrame(raw_data2, columns = ['subject_id', 'first_name', 'last_name'])\n",
    "df_b"
   ]
  },
  {
   "cell_type": "code",
   "execution_count": null,
   "metadata": {
    "collapsed": true,
    "scrolled": true
   },
   "outputs": [],
   "source": [
    "raw_data3 = {\n",
    "        'subject_id': ['1', '2', '3', '4', '5', '7', '8', '9', '10', '11'],'test_id': [51, 15, 15, 61, 16, 14, 15, 1, 61, 16]}\n",
    "df_n = pd.DataFrame(raw_data3, columns = ['subject_id','test_id'])\n",
    "df_n"
   ]
  },
  {
   "cell_type": "code",
   "execution_count": null,
   "metadata": {
    "collapsed": true,
    "scrolled": true
   },
   "outputs": [],
   "source": [
    "# concatenate 2 dataframes along rows\n",
    "df_byrow = pd.concat([df_a, df_b])\n",
    "\n",
    "df_byrow"
   ]
  },
  {
   "cell_type": "code",
   "execution_count": null,
   "metadata": {
    "collapsed": true,
    "scrolled": false
   },
   "outputs": [],
   "source": [
    "# join two datarames along columns\n",
    "df_bycol = pd.concat([df_a, df_b], axis=1)\n",
    "df_bycol"
   ]
  },
  {
   "cell_type": "code",
   "execution_count": null,
   "metadata": {
    "collapsed": true
   },
   "outputs": [],
   "source": [
    "# how would we concat the columns of df_n to df_a ?"
   ]
  },
  {
   "cell_type": "markdown",
   "metadata": {},
   "source": [
    "## <font color='red'> Merging Dataframes </font>"
   ]
  },
  {
   "cell_type": "markdown",
   "metadata": {},
   "source": [
    "**Merge**:  Another way to combine DataFrames is to use columns in each dataset that contain common values (a common unique id). Combining DataFrames using a common field is called “joining”. The columns containing the common values are called “join key(s)”. Joining DataFrames in this way is often useful when one DataFrame is a “lookup table” containing additional data that we want to include in the other."
   ]
  },
  {
   "cell_type": "markdown",
   "metadata": {},
   "source": [
    "<img src='initialiDF.jpg'>"
   ]
  },
  {
   "cell_type": "markdown",
   "metadata": {},
   "source": [
    "<img src=\"merge_PD.jpg\">"
   ]
  },
  {
   "cell_type": "markdown",
   "metadata": {},
   "source": [
    "# What's the difference?\n",
    "\n",
    "1. Concat can take a group of 2+ dataframes and combines the dataframes via the rows or columns. More like adding.\n",
    "2. Merge allows for more SQL-like merging of two dataframes, specifically merging on similar values in a column found in two dataframes. Useful in certain cases for relational database type usage. More like mixing."
   ]
  },
  {
   "cell_type": "code",
   "execution_count": null,
   "metadata": {
    "collapsed": true,
    "scrolled": false
   },
   "outputs": [],
   "source": [
    "df_a"
   ]
  },
  {
   "cell_type": "code",
   "execution_count": null,
   "metadata": {
    "collapsed": true,
    "scrolled": true
   },
   "outputs": [],
   "source": [
    "df_b"
   ]
  },
  {
   "cell_type": "code",
   "execution_count": null,
   "metadata": {
    "collapsed": true,
    "scrolled": true
   },
   "outputs": [],
   "source": [
    "#merge examples with df_a and df_b; & one with the index arg\n",
    "mergeright=pd.merge(df_a,df_b,on='subject_id',how='right')\n",
    "mergeright"
   ]
  },
  {
   "cell_type": "code",
   "execution_count": null,
   "metadata": {
    "collapsed": true,
    "scrolled": true
   },
   "outputs": [],
   "source": [
    "\n",
    "mergeleft = pd.merge(df_a,df_b,on='subject_id',how='left')\n",
    "mergeleft"
   ]
  },
  {
   "cell_type": "code",
   "execution_count": null,
   "metadata": {
    "collapsed": true
   },
   "outputs": [],
   "source": [
    "#merge by index example DEMO\n"
   ]
  },
  {
   "cell_type": "markdown",
   "metadata": {
    "collapsed": true
   },
   "source": [
    "# Groupby\n",
    "\n",
    "1.  Groupby  splits the data into different groups depending on a variable of your choice\n",
    "2. A GroupBy object .groups variable is a dictionary whose keys are the computed unique groups with corresponding values being the axis labels belonging to each group. \n",
    "3. This groupby object allows for access to the object similar to what we've seen before with Pandas"
   ]
  },
  {
   "cell_type": "code",
   "execution_count": null,
   "metadata": {
    "collapsed": true,
    "scrolled": false
   },
   "outputs": [],
   "source": [
    "# dataframe that has counts of types of beverage servings \n",
    "drinks = pd.read_csv('http://bit.ly/drinksbycountry',index_col='country')"
   ]
  },
  {
   "cell_type": "code",
   "execution_count": null,
   "metadata": {
    "collapsed": true,
    "scrolled": true
   },
   "outputs": [],
   "source": [
    "#inspect the column continent, how ??\n"
   ]
  },
  {
   "cell_type": "code",
   "execution_count": null,
   "metadata": {
    "collapsed": true,
    "scrolled": true
   },
   "outputs": [],
   "source": [
    "# using .groupby function to see the beer serving mean by continent\n",
    "drinks.groupby('continent').beer_servings.mean()"
   ]
  },
  {
   "cell_type": "code",
   "execution_count": null,
   "metadata": {
    "collapsed": true,
    "scrolled": true
   },
   "outputs": [],
   "source": [
    "# max number of beer servings by continent\n",
    "drinks.groupby('continent').beer_servings.max()"
   ]
  },
  {
   "cell_type": "code",
   "execution_count": null,
   "metadata": {
    "collapsed": true,
    "scrolled": true
   },
   "outputs": [],
   "source": [
    "#Aggregate findings\n",
    "drinks.groupby('continent').beer_servings.agg(['count', 'min', 'max'])"
   ]
  },
  {
   "cell_type": "code",
   "execution_count": null,
   "metadata": {
    "collapsed": true,
    "scrolled": true
   },
   "outputs": [],
   "source": [
    "##Accessing objects\n",
    "obj = drinks.groupby('continent').agg(['min','max'])s"
   ]
  },
  {
   "cell_type": "markdown",
   "metadata": {
    "collapsed": true
   },
   "source": [
    "# MatplotLib \n",
    "\n",
    "Matplotlib is a 2D plotting library in python that was designed to closely resemble Matlab;\n",
    "\n",
    "1. Allows for access to object properties that can be modified\n",
    "\n",
    "*** https://matplotlib.org/users/pyplot_tutorial.html *** <br> </br>\n",
    "**checkout some examples : [https://matplotlib.org/examples/**"
   ]
  },
  {
   "cell_type": "markdown",
   "metadata": {},
   "source": [
    "*Matplotlib* works using a hierarchy of containers that are all adjustable:\n",
    "   1. **Figure** is the topmost container: it is the entire page for your plot\n",
    "      -- it can contain multiple plots and axes\n",
    "   2. Plotting is mostly done on the Axes container via subplot:\n",
    "      -- Each Axes object has access to many other plot controls\n",
    " \n",
    " *So in general we create plots by specifying each of the containers (topmost first) then create the graphs* <br> </br>***(not necessary for basic plots)***"
   ]
  },
  {
   "cell_type": "markdown",
   "metadata": {
    "collapsed": true
   },
   "source": [
    "<img src='figure_axes_axis_labeled.png'>"
   ]
  },
  {
   "cell_type": "code",
   "execution_count": null,
   "metadata": {
    "collapsed": true,
    "scrolled": true
   },
   "outputs": [],
   "source": [
    "# This code will embed our plots inside this notebook \n",
    "%matplotlib inline\n",
    "\n",
    "#load the specific sub library we are interested in\n",
    "import matplotlib.pyplot as plt"
   ]
  },
  {
   "cell_type": "code",
   "execution_count": null,
   "metadata": {
    "collapsed": true,
    "scrolled": true
   },
   "outputs": [],
   "source": [
    "#Basic plot Example 1\n",
    "#Create values incremented by .25 by using NumPy\n",
    "x2 = np.arange(0,1.25,.25) \n",
    "plt.plot(x2,x2**2)"
   ]
  },
  {
   "cell_type": "code",
   "execution_count": null,
   "metadata": {
    "collapsed": true,
    "scrolled": true
   },
   "outputs": [],
   "source": [
    "#Basic plot Example 2 with more than 1 line\n",
    "#Create some new fake data to graph\n",
    "X = np.linspace(-np.pi,np.pi,256,endpoint=True)\n",
    "C = np.cos(X)\n",
    "S = np.sin(X)\n",
    "\n",
    "#Create a basic plot\n",
    "plt.plot(X,S,'r')\n",
    "#plt.show()\n",
    "\n",
    "#Once the plot object is open, you can append a new line\n",
    "plt.plot(X,C,'g')"
   ]
  },
  {
   "cell_type": "code",
   "execution_count": null,
   "metadata": {
    "collapsed": true,
    "scrolled": false
   },
   "outputs": [],
   "source": [
    "# Another Example of Updating the properties of a line object;\n",
    "# With new data!\n",
    "x = np.arange(0,1.0,0.01) # values 0 to 1 in steps of .01\n",
    "y1 = np.sin(2*np.pi*x)\n",
    "y2 = np.sin(4*np.pi*x)\n",
    "\n",
    "# note that the two lines work in one call because of same x\n",
    "lines = plt.plot(x, y1, x, y2)\n",
    "\n",
    "# The setp() function operates on a single instance or a list of instances.\n",
    "plt.setp(lines,linewidth=2,color='b')"
   ]
  },
  {
   "cell_type": "markdown",
   "metadata": {},
   "source": [
    "### Adjusting the x and y labels\n",
    "> <div style=\"text-align: right\"> *Use  plt.xticks & plt.yticks*</div>"
   ]
  },
  {
   "cell_type": "code",
   "execution_count": null,
   "metadata": {
    "collapsed": true,
    "scrolled": true
   },
   "outputs": [],
   "source": [
    "#Example changing the axis values (note equal lengths)\n",
    "x = [1, 2, 3, 4]\n",
    "y = [1, 4, 9, 6]\n",
    "z = [1, 8,16,24]\n",
    "\n",
    "# create a list of labels\n",
    "xlabs = ['Mark','Himanshu','Samson','Danny']\n",
    "ylabs = ['Man','Hombre','Bro','Muchacho']\n",
    "# set the plot up\n",
    "plt.plot(x,y,'go')\n",
    "#add the labels\n",
    "plt.xticks(x,xlabs,rotation='vertical')\n",
    "# ylab adjusted\n",
    "plt.yticks(y,ylabs)"
   ]
  },
  {
   "cell_type": "markdown",
   "metadata": {},
   "source": [
    "## Add sub-plots to a figure"
   ]
  },
  {
   "cell_type": "markdown",
   "metadata": {},
   "source": [
    "To add a subplot we must pass several arguments to the pd.subplot() call:\n",
    "\n",
    "using:\n",
    "<div style=\"text-align: left\">***plt.subplot(row,col,plot_num)***</div>\n",
    "<div style=\"text-align: center\">What does that mean??</div>\n",
    "<div style=\"text-align: center\">\n",
    "1. rows (**1**)\n",
    "2. Number of columns (**1**) \n",
    "3. plot number (**1**)\n",
    "</div> \n",
    "<br>  </br>\n",
    "<br>  </br>\n",
    "<div style=\"text=align: right\">*let's look at this more closely* </div>\n"
   ]
  },
  {
   "cell_type": "markdown",
   "metadata": {},
   "source": [
    "<img src='plot_subplot-grid_1.png'>"
   ]
  },
  {
   "cell_type": "code",
   "execution_count": 2,
   "metadata": {
    "scrolled": true
   },
   "outputs": [
    {
     "ename": "NameError",
     "evalue": "name 'plt' is not defined",
     "output_type": "error",
     "traceback": [
      "\u001b[1;31m---------------------------------------------------------------------------\u001b[0m",
      "\u001b[1;31mNameError\u001b[0m                                 Traceback (most recent call last)",
      "\u001b[1;32m<ipython-input-2-48c86aa74d11>\u001b[0m in \u001b[0;36m<module>\u001b[1;34m()\u001b[0m\n\u001b[0;32m      2\u001b[0m \u001b[1;33m\u001b[0m\u001b[0m\n\u001b[0;32m      3\u001b[0m \u001b[1;31m# The first figure\u001b[0m\u001b[1;33m\u001b[0m\u001b[1;33m\u001b[0m\u001b[0m\n\u001b[1;32m----> 4\u001b[1;33m \u001b[0mplt\u001b[0m\u001b[1;33m.\u001b[0m\u001b[0mfigure\u001b[0m\u001b[1;33m(\u001b[0m\u001b[1;36m1\u001b[0m\u001b[1;33m)\u001b[0m\u001b[1;33m\u001b[0m\u001b[0m\n\u001b[0m\u001b[0;32m      5\u001b[0m \u001b[1;33m\u001b[0m\u001b[0m\n\u001b[0;32m      6\u001b[0m \u001b[1;31m## REMINDER USAGE: plt.subplot(nrows, ncols, plot_number)\u001b[0m\u001b[1;33m\u001b[0m\u001b[1;33m\u001b[0m\u001b[0m\n",
      "\u001b[1;31mNameError\u001b[0m: name 'plt' is not defined"
     ]
    }
   ],
   "source": [
    "#Adjust the figures and add new plots to a figure\n",
    "\n",
    "# The first figure\n",
    "plt.figure(1) \n",
    "\n",
    "## REMINDER USAGE: plt.subplot(nrows, ncols, plot_number)\n",
    "\n",
    "# The first subplot of figure 1\n",
    "plt.subplot(211)\n",
    "#Our first plot\n",
    "plt.plot(x,y)\n",
    "# The SECOND subplot of figure1\n",
    "plt.subplot(212) # <---\n",
    "# Our SECOND plot\n",
    "plt.plot(x,z,color='r')\n",
    "\n",
    "# Add a title above the first subplot\n",
    "plt.figure(1)\n",
    "plt.subplot(211) #<---\n",
    "plt.title('WOAH 2 seperate graphs!!')"
   ]
  },
  {
   "cell_type": "markdown",
   "metadata": {},
   "source": [
    "# Pandas and Matplotlib together\n",
    "\n",
    "#### Pandas dataframes have access to the .plot function for quick plotting"
   ]
  },
  {
   "cell_type": "code",
   "execution_count": 1,
   "metadata": {
    "scrolled": true
   },
   "outputs": [
    {
     "ename": "NameError",
     "evalue": "name 'drinks' is not defined",
     "output_type": "error",
     "traceback": [
      "\u001b[1;31m---------------------------------------------------------------------------\u001b[0m",
      "\u001b[1;31mNameError\u001b[0m                                 Traceback (most recent call last)",
      "\u001b[1;32m<ipython-input-1-e3a6714f84ec>\u001b[0m in \u001b[0;36m<module>\u001b[1;34m()\u001b[0m\n\u001b[1;32m----> 1\u001b[1;33m \u001b[0mdata\u001b[0m \u001b[1;33m=\u001b[0m \u001b[0mdrinks\u001b[0m\u001b[1;33m.\u001b[0m\u001b[0mgroupby\u001b[0m\u001b[1;33m(\u001b[0m\u001b[1;34m'continent'\u001b[0m\u001b[1;33m)\u001b[0m\u001b[1;33m.\u001b[0m\u001b[0mmean\u001b[0m\u001b[1;33m(\u001b[0m\u001b[1;33m)\u001b[0m\u001b[1;33m\u001b[0m\u001b[0m\n\u001b[0m\u001b[0;32m      2\u001b[0m \u001b[0mdata\u001b[0m\u001b[1;33m.\u001b[0m\u001b[0mplot\u001b[0m\u001b[1;33m(\u001b[0m\u001b[0mkind\u001b[0m\u001b[1;33m=\u001b[0m\u001b[1;34m'barh'\u001b[0m\u001b[1;33m)\u001b[0m\u001b[1;33m\u001b[0m\u001b[0m\n",
      "\u001b[1;31mNameError\u001b[0m: name 'drinks' is not defined"
     ]
    }
   ],
   "source": [
    "data = drinks.groupby('continent').mean()\n",
    "data.plot(kind='barh')"
   ]
  },
  {
   "cell_type": "code",
   "execution_count": null,
   "metadata": {
    "collapsed": true
   },
   "outputs": [],
   "source": []
  }
 ],
 "metadata": {
  "kernelspec": {
   "display_name": "Python 3",
   "language": "python",
   "name": "python3"
  },
  "language_info": {
   "codemirror_mode": {
    "name": "ipython",
    "version": 3
   },
   "file_extension": ".py",
   "mimetype": "text/x-python",
   "name": "python",
   "nbconvert_exporter": "python",
   "pygments_lexer": "ipython3",
   "version": "3.6.1"
  }
 },
 "nbformat": 4,
 "nbformat_minor": 2
}
