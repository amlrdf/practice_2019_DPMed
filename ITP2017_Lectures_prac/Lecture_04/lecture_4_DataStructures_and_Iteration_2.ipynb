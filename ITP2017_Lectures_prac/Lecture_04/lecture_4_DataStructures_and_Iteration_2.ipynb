{
 "cells": [
  {
   "cell_type": "markdown",
   "metadata": {},
   "source": [
    "# Introduction to Python - Day 04 (18 July 2017)\n",
    "\n",
    "### Recap\n",
    "\n",
    "+ Introduction to composite data types, a.k.a data structures (lists)\n",
    "+ Iteration (repetitive execution) - another form of program control flow (for-loop patterns)\n",
    "+ Running programs in debug mode (for debugging and exploring dynamic code execution environment)"
   ]
  },
  {
   "cell_type": "markdown",
   "metadata": {},
   "source": [
    "---\n",
    "# Dictionaries (a.k.a. HashMap/HashTable)\n",
    "\n",
    "+ Consist of a **set of mappings** between _**<font color='blue'>unique</font>**_ **keys** and their **values**.\n",
    "\n",
    "#### Basic syntax:\n",
    "{key1: value1, key2: value2, ...}\n",
    "   \n",
    "```python\n",
    "# Example:\n",
    "genetic_code = {'uuu': 'phe', 'uua': 'leu', 'aug': 'met', 'uaa': 'stop'}\n",
    "```\n",
    "\n",
    "**Comparison with Lists**\n",
    "+ Lists are ordered: the order in which elements are added is the order in which they are stored\n",
    "    + Access by position/index\n",
    "        + Ex. letters = ['a', 'b', 'c', 'd', 'e', 'f']\n",
    "        + letters[0] is always 'a' unless the list is changed\n",
    "+ Dictionaries are unordered\n",
    "    + Access by key\n",
    "        + Ex. dict_ = {'key1': 'a', 'key2': 'b', 'key3': 'c'}\n",
    "        + dict_['key1']\n",
    "\n",
    "The association between a **key** and a **value** is often refered to as a **key**-**value** pair or sometimes an **item**.\n",
    "\n",
    "\n",
    "#### Keys\n",
    "\n",
    "+ must be immutable (string, integer, float, tuple)\n",
    "+ must be unique\n",
    "\n",
    "\n",
    "#### Values\n",
    "+ Can be of any type, mutable or immutable, simple or composite (arbitrarily complex, heterogeneous)\n",
    "    + primitives (character: 'a', integer: 0, float: 3.4)\n",
    "    + sequential Types (string: 'asd', list: [0, 1, 2], another dictionary: {'key':'value'}, tuple: (0, 1, 2)\n",
    "    + user Defined Types (discussed later) (functions, classes, objects etc.)\n",
    "\n",
    "\n",
    "### Some Real World Examples\n",
    "\n",
    "+ {**&lt;gene_id&gt;**: **&lt;**gene sequence**&gt;**, ...}\n",
    "+ {**&lt;email&gt;**: **&lt;**user data**&gt;**, ...}\n",
    "+ {**&lt;soc security&gt;**: **&lt;**individual**&gt;**, ...}\n",
    "+ {**&lt;emp id&gt;**: **&lt;**emp data**&gt;**, ...}"
   ]
  },
  {
   "cell_type": "markdown",
   "metadata": {},
   "source": [
    "## Operations\n",
    "\n",
    "```python\n",
    "help(dict)\n",
    "```\n",
    "\n",
    "+ Create\n",
    "+ Access keys, values or (key, value) pairs / items\n",
    "+ Modify items\n",
    "+ Check membership of a key\n",
    "+ Traverse through the dictionary and do something\n",
    "+ Make it bigger / smaller (add and remove items)\n",
    "+ …\n"
   ]
  },
  {
   "cell_type": "code",
   "execution_count": null,
   "metadata": {
    "collapsed": true
   },
   "outputs": [],
   "source": []
  },
  {
   "cell_type": "markdown",
   "metadata": {},
   "source": [
    "## Creating a dictionary\n",
    "Several ways to create a dictionary\n",
    "\n",
    "```python\n",
    "dict_x = {'a': 1, 'b': 2}      # initialize by assignment\n",
    "dict_y = dict(a=1, b=2)        # use dict built-in function\n",
    "print(dict_x, dict_y)\n",
    "```\n",
    "+ **keys** = 'a', 'b'\n",
    "+ **values** = 1, 2\n",
    "+ **items** = ('a', 1), ('b', 2)\n",
    "\n",
    "+ Access by key:\n",
    "```python\n",
    "print(\"The value for key '{0}' is {1}\".format('a', dict_x['a']))\n",
    "```\n",
    "\n",
    "#### Dictionaries can also be built incrementally - see example later"
   ]
  },
  {
   "cell_type": "code",
   "execution_count": 4,
   "metadata": {},
   "outputs": [
    {
     "name": "stdout",
     "output_type": "stream",
     "text": [
      "1\n",
      "The value for key 'a' is 1\n"
     ]
    }
   ],
   "source": [
    "dict_x = {'a': 1, 'b': 2}\n",
    "print(dict_x['a'])\n",
    "print(\"The value for key '{0}' is {1}\".format('a', dict_x['a']))"
   ]
  },
  {
   "cell_type": "markdown",
   "metadata": {},
   "source": [
    "### Example - Lookup Table\n",
    "\n",
    "```python\n",
    "elements = {'H': 'hydrogen',   'He': 'helium', \n",
    "            'Li': 'lithium',  'C': 'carbon', \n",
    "            'O': 'oxygen',  'N': 'nitrogen'}\n",
    "complement = {'A': 'T', 'T': 'A', 'C': 'G', 'G': 'C'}\n",
    "print('H', '->', elements['H'])\n",
    "print('A', '->', complement['A'])\n",
    "```"
   ]
  },
  {
   "cell_type": "code",
   "execution_count": null,
   "metadata": {
    "collapsed": true
   },
   "outputs": [],
   "source": []
  },
  {
   "cell_type": "markdown",
   "metadata": {},
   "source": [
    "### Example - Database Records\n",
    "```python\n",
    "person = {'name': 'John', \n",
    "          'surname': 'Doe', \n",
    "          'contact': \n",
    "              {\n",
    "              'phone': '123-456-7890', \n",
    "              'email': 'john.doe@gmail.com'\n",
    "              }\n",
    "          }\n",
    "print(person['name'])\n",
    "print(person['contact'])\n",
    "print(person['contact']['email'])\n",
    "```"
   ]
  },
  {
   "cell_type": "code",
   "execution_count": 5,
   "metadata": {},
   "outputs": [
    {
     "name": "stdout",
     "output_type": "stream",
     "text": [
      "John\n",
      "{'phone': '123-456-7890', 'email': 'john.doe@gmail.com'}\n",
      "john.doe@gmail.com\n"
     ]
    }
   ],
   "source": [
    "person = {'name': 'John', \n",
    "          'surname': 'Doe', \n",
    "          'contact': \n",
    "              {\n",
    "              'phone': '123-456-7890', \n",
    "              'email': 'john.doe@gmail.com'\n",
    "              }\n",
    "          }\n",
    "print(person['name'])\n",
    "print(person['contact'])\n",
    "print(person['contact']['email'])"
   ]
  },
  {
   "cell_type": "markdown",
   "metadata": {},
   "source": [
    "# Iterating over a dictionary\n",
    "\n",
    "### Pattern 1: &lt;dict&gt;.keys()\n",
    "<font color='blue'>**Note:**</font> &lt;dict&gt; is a placeholder for a dictionary object\n",
    "\n",
    "```python\n",
    "my_dict = {0: 'a', 1:'b', 2: 'c', 3: 'd'}\n",
    "print('dict_keys lazy obj: ', my_dict.keys())                       # lazy object\n",
    "print('dict_keys unpacked: ', list(my_dict.keys()))                 # forceful typecast\n",
    "print('Inside for loop:')\n",
    "for key in my_dict.keys():                  # for loop unpacks the lazy object internally\n",
    "    print('key: ', key)\n",
    "```"
   ]
  },
  {
   "cell_type": "code",
   "execution_count": 7,
   "metadata": {},
   "outputs": [
    {
     "name": "stdout",
     "output_type": "stream",
     "text": [
      "dict_keys lazy obj:  dict_keys([0, 1, 2, 3])\n",
      "dict_keys unpacked:  [0, 1, 2, 3]\n",
      "Inside for loop:\n",
      "key:  0\n",
      "key:  1\n",
      "key:  2\n",
      "key:  3\n"
     ]
    }
   ],
   "source": [
    "my_dict = {0: 'a', 1:'b', 2: 'c', 3: 'd'}\n",
    "print('dict_keys lazy obj: ', my_dict.keys())  \n",
    "print('dict_keys unpacked: ', list(my_dict.keys()))                 # forceful typecast\n",
    "print('Inside for loop:')\n",
    "for key in my_dict.keys():                  # for loop unpacks the lazy object internally\n",
    "    print('key: ', key)"
   ]
  },
  {
   "cell_type": "code",
   "execution_count": 10,
   "metadata": {},
   "outputs": [
    {
     "name": "stdout",
     "output_type": "stream",
     "text": [
      "0\n"
     ]
    }
   ],
   "source": [
    "keys = my_dict.keys()\n",
    "print(list(keys)[0])"
   ]
  },
  {
   "cell_type": "markdown",
   "metadata": {},
   "source": [
    "### Pattern 2: &lt;dict&gt;.values()\n",
    "\n",
    "\n",
    "```python\n",
    "my_dict = {0: 'a', 1:'b', 2: 'c', 3: 'd'}\n",
    "print('dict_values lazy obj: ', my_dict.values())                    # lazy object\n",
    "print('dict_values unpacked: ', list(my_dict.values()))\n",
    "print('Inside for loop')\n",
    "for value in my_dict.values():\n",
    "    print('value: ', value)\n",
    "```"
   ]
  },
  {
   "cell_type": "code",
   "execution_count": 11,
   "metadata": {},
   "outputs": [
    {
     "name": "stdout",
     "output_type": "stream",
     "text": [
      "dict_values lazy obj:  dict_values(['a', 'b', 'c', 'd'])\n",
      "dict_values unpacked:  ['a', 'b', 'c', 'd']\n",
      "Inside for loop\n",
      "value:  a\n",
      "value:  b\n",
      "value:  c\n",
      "value:  d\n"
     ]
    }
   ],
   "source": [
    "my_dict = {0: 'a', 1:'b', 2: 'c', 3: 'd'}\n",
    "print('dict_values lazy obj: ', my_dict.values())                    # lazy object\n",
    "print('dict_values unpacked: ', list(my_dict.values()))\n",
    "print('Inside for loop')\n",
    "for value in my_dict.values():\n",
    "    print('value: ', value)"
   ]
  },
  {
   "cell_type": "markdown",
   "metadata": {},
   "source": [
    "### Pattern 3: &lt;dict&gt;.items()\n",
    "\n",
    "```python\n",
    "my_dict = {0: 'a', 1:'b', 2: 'c', 3: 'd'}\n",
    "print('dict_items lazy obj: ', my_dict.items())                     # lazy object\n",
    "print('dict_items unpacked: ', list(my_dict.items()))\n",
    "print('Inside for loop: ')\n",
    "for item in my_dict.items():\n",
    "    print('item: {0}, key: {1}, value: {2}'.format(item, item[0], item[1]))\n",
    "```"
   ]
  },
  {
   "cell_type": "code",
   "execution_count": 13,
   "metadata": {},
   "outputs": [
    {
     "name": "stdout",
     "output_type": "stream",
     "text": [
      "dict_items lazy obj:  dict_items([(0, 'a'), (1, 'b'), (2, 'c'), (3, 'd')])\n",
      "dict_items unpacked:  [(0, 'a'), (1, 'b'), (2, 'c'), (3, 'd')]\n",
      "Inside for loop: \n",
      "item: (0, 'a'), key: 0, value: a\n",
      "item: (1, 'b'), key: 1, value: b\n",
      "item: (2, 'c'), key: 2, value: c\n",
      "item: (3, 'd'), key: 3, value: d\n"
     ]
    }
   ],
   "source": [
    "my_dict = {0: 'a', 1:'b', 2: 'c', 3: 'd'}\n",
    "print('dict_items lazy obj: ', my_dict.items())                     # lazy object\n",
    "print('dict_items unpacked: ', list(my_dict.items()))\n",
    "print('Inside for loop: ')\n",
    "for item in my_dict.items():\n",
    "    print('item: {0}, key: {1}, value: {2}'.format(item, item[0], item[1]))"
   ]
  },
  {
   "cell_type": "code",
   "execution_count": 15,
   "metadata": {},
   "outputs": [
    {
     "name": "stdout",
     "output_type": "stream",
     "text": [
      "<class 'list'> <class 'tuple'>\n",
      "[1, 2, 3, 4, 5]\n"
     ]
    },
    {
     "ename": "AttributeError",
     "evalue": "'tuple' object has no attribute 'append'",
     "output_type": "error",
     "traceback": [
      "\u001b[0;31m---------------------------------------------------------------------------\u001b[0m",
      "\u001b[0;31mAttributeError\u001b[0m                            Traceback (most recent call last)",
      "\u001b[0;32m<ipython-input-15-462b283eed1d>\u001b[0m in \u001b[0;36m<module>\u001b[0;34m()\u001b[0m\n\u001b[1;32m      4\u001b[0m \u001b[0mx\u001b[0m\u001b[0;34m.\u001b[0m\u001b[0mappend\u001b[0m\u001b[0;34m(\u001b[0m\u001b[0;36m5\u001b[0m\u001b[0;34m)\u001b[0m\u001b[0;34m\u001b[0m\u001b[0m\n\u001b[1;32m      5\u001b[0m \u001b[0mprint\u001b[0m\u001b[0;34m(\u001b[0m\u001b[0mx\u001b[0m\u001b[0;34m)\u001b[0m\u001b[0;34m\u001b[0m\u001b[0m\n\u001b[0;32m----> 6\u001b[0;31m \u001b[0my\u001b[0m\u001b[0;34m.\u001b[0m\u001b[0mappend\u001b[0m\u001b[0;34m(\u001b[0m\u001b[0;36m5\u001b[0m\u001b[0;34m)\u001b[0m\u001b[0;34m\u001b[0m\u001b[0m\n\u001b[0m",
      "\u001b[0;31mAttributeError\u001b[0m: 'tuple' object has no attribute 'append'"
     ]
    }
   ],
   "source": [
    "x = [1, 2, 3, 4]\n",
    "y = (1, 2, 3, 4)\n",
    "print(type(x), type(y))\n",
    "x.append(5)\n",
    "print(x)\n",
    "y.append(5)"
   ]
  },
  {
   "cell_type": "markdown",
   "metadata": {},
   "source": [
    "#### <font color='blue' size=3>Sidebar: List/Tuple unpacking</font> \n",
    "If there are the same number of variables as elements in a sequence, python will assign each element to a variable\n",
    "```python\n",
    "val1, val2 = [1, 2]\n",
    "print(val1, val2)\n",
    "```\n",
    "If there are more or less elements, python will throw a ValueError\n",
    "```python\n",
    "val1, val2 = [1]\n",
    "val1, val2 = [1, 2, 3]\n",
    "```"
   ]
  },
  {
   "cell_type": "code",
   "execution_count": 19,
   "metadata": {},
   "outputs": [
    {
     "ename": "ValueError",
     "evalue": "not enough values to unpack (expected 3, got 2)",
     "output_type": "error",
     "traceback": [
      "\u001b[0;31m---------------------------------------------------------------------------\u001b[0m",
      "\u001b[0;31mValueError\u001b[0m                                Traceback (most recent call last)",
      "\u001b[0;32m<ipython-input-19-7a2d5e6b7e33>\u001b[0m in \u001b[0;36m<module>\u001b[0;34m()\u001b[0m\n\u001b[0;32m----> 1\u001b[0;31m \u001b[0mx\u001b[0m\u001b[0;34m,\u001b[0m \u001b[0my\u001b[0m\u001b[0;34m,\u001b[0m \u001b[0mz\u001b[0m \u001b[0;34m=\u001b[0m \u001b[0;34m(\u001b[0m\u001b[0;36m1\u001b[0m\u001b[0;34m,\u001b[0m \u001b[0;36m2\u001b[0m\u001b[0;34m)\u001b[0m\u001b[0;34m\u001b[0m\u001b[0m\n\u001b[0m\u001b[1;32m      2\u001b[0m \u001b[0mprint\u001b[0m\u001b[0;34m(\u001b[0m\u001b[0mx\u001b[0m\u001b[0;34m,\u001b[0m \u001b[0my\u001b[0m\u001b[0;34m,\u001b[0m \u001b[0mz\u001b[0m\u001b[0;34m)\u001b[0m\u001b[0;34m\u001b[0m\u001b[0m\n",
      "\u001b[0;31mValueError\u001b[0m: not enough values to unpack (expected 3, got 2)"
     ]
    }
   ],
   "source": [
    "x, y, z = (1, 2)\n",
    "print(x, y, z)"
   ]
  },
  {
   "cell_type": "markdown",
   "metadata": {},
   "source": [
    "### Pattern 4: Item split into key/value\n",
    "```python\n",
    "my_dict = {0: 'a', 1:'b', 2: 'c', 3: 'd'}\n",
    "print('dict_items lazy obj:', my_dict.items())\n",
    "print('Inside for loop:')\n",
    "for key, value in my_dict.items():\n",
    "    print(\"key: {0}, value: {1}\".format(key, value))\n",
    "```"
   ]
  },
  {
   "cell_type": "code",
   "execution_count": 2,
   "metadata": {},
   "outputs": [
    {
     "name": "stdout",
     "output_type": "stream",
     "text": [
      "dict_items lazy obj: [(0, 'a'), (1, 'b'), (2, 'c'), (3, 'd')]\n",
      "Inside for loop:\n",
      "key: 0, value: a\n",
      "key: 1, value: b\n",
      "key: 2, value: c\n",
      "key: 3, value: d\n"
     ]
    }
   ],
   "source": [
    "my_dict = {0: 'a', 1:'b', 2: 'c', 3: 'd'}\n",
    "print('dict_items lazy obj:', list(my_dict.items()))\n",
    "print('Inside for loop:')\n",
    "for key, value in my_dict.items():\n",
    "    print(\"key: {0}, value: {1}\".format(key, value))"
   ]
  },
  {
   "cell_type": "markdown",
   "metadata": {},
   "source": [
    "### Membership - check if a key exists in a dictionary\n",
    "\n",
    "```python\n",
    "some_dict = {'a': 0, 'b': 1, 'c': 2}\n",
    "print(\"our dict: \", some_dict)\n",
    "print(\"a in our dict: \", 'a' in some_dict)\n",
    "```\n",
    "\n",
    "### Modifications\n",
    "\n",
    "+ Changing the value for a key\n",
    "\n",
    "```python\n",
    "some_dict['a'] = 10\n",
    "print(\"our dict (now): \", some_dict)\n",
    "```\n",
    "\n",
    "+ Adding individual key-value pair to a dictionary\n",
    "\n",
    "```python\n",
    "some_dict['d'] = 3\n",
    "print(\"our dict (now): \", some_dict)\n",
    "```\n",
    "\n",
    "+ Updating a dictionary with another dictionary (updates existing values; adds new key-value pairs)\n",
    "```python\n",
    "some_other_dict = {'a': 99, 'e': 999}\n",
    "some_dict.update(some_other_dict)\n",
    "print(\"our dict (now): \", some_dict)\n",
    "```"
   ]
  },
  {
   "cell_type": "code",
   "execution_count": 22,
   "metadata": {},
   "outputs": [
    {
     "name": "stdout",
     "output_type": "stream",
     "text": [
      "our dict:  {'a': 0, 'b': 1, 'c': 2}\n",
      "False\n"
     ]
    }
   ],
   "source": [
    "some_dict = {'a': 0, 'b': 1, 'c': 2}\n",
    "print(\"our dict: \", some_dict)\n",
    "print(10 in some_dict.values())\n"
   ]
  },
  {
   "cell_type": "markdown",
   "metadata": {},
   "source": [
    "### Extra - pretty Printing\n",
    "\n",
    "+ Complicated dictionaries do not print nicely.\n",
    "+ pprint is a library that prints dictionaries in a more structured manner\n",
    "    + external library that needs to be imported\n",
    "    + it comes standard with python installation\n",
    "+ If you want to configure the output, create a pretty printer object first before using it (ow default config is used)\n",
    "\n",
    "```python\n",
    "import pprint\n",
    "dict_ = {'name': 'Joe', 'Surname': 'van Niekerk', 'email': 'jvn@c.m', \n",
    "        'friends': [{'name': 'Sally'}, {'name': 'Dave'}, {'name': 'Rick'}, {'name': 'James'}]}\n",
    "print('\\n' +'-'*50)\n",
    "print(\"No pretty printing\")\n",
    "print('-'*50)\n",
    "print(dict_)\n",
    "print('\\n' + '-'*50)\n",
    "print(\"Default pretty printing\")\n",
    "print('-'*50)\n",
    "pprint.pprint(dict_)\n",
    "print('\\n' + '-'*50)\n",
    "print(\"Custom pretty printing\")\n",
    "print('-'*50)\n",
    "pp = pprint.PrettyPrinter(indent=4)   # create a pprint object with desired attributes (more on this later)\n",
    "pp.pprint(dict_)\n",
    "```"
   ]
  },
  {
   "cell_type": "code",
   "execution_count": 23,
   "metadata": {},
   "outputs": [
    {
     "name": "stdout",
     "output_type": "stream",
     "text": [
      "\n",
      "--------------------------------------------------\n",
      "No pretty printing\n",
      "--------------------------------------------------\n",
      "{'name': 'Joe', 'Surname': 'van Niekerk', 'email': 'jvn@c.m', 'friends': [{'name': 'Sally'}, {'name': 'Dave'}, {'name': 'Rick'}, {'name': 'James'}]}\n",
      "\n",
      "--------------------------------------------------\n",
      "Default pretty printing\n",
      "--------------------------------------------------\n",
      "{'Surname': 'van Niekerk',\n",
      " 'email': 'jvn@c.m',\n",
      " 'friends': [{'name': 'Sally'},\n",
      "             {'name': 'Dave'},\n",
      "             {'name': 'Rick'},\n",
      "             {'name': 'James'}],\n",
      " 'name': 'Joe'}\n",
      "\n",
      "--------------------------------------------------\n",
      "Custom pretty printing\n",
      "--------------------------------------------------\n",
      "{   'Surname': 'van Niekerk',\n",
      "    'email': 'jvn@c.m',\n",
      "    'friends': [   {'name': 'Sally'},\n",
      "                   {'name': 'Dave'},\n",
      "                   {'name': 'Rick'},\n",
      "                   {'name': 'James'}],\n",
      "    'name': 'Joe'}\n"
     ]
    }
   ],
   "source": [
    "import pprint\n",
    "dict_ = {'name': 'Joe', 'Surname': 'van Niekerk', 'email': 'jvn@c.m', \n",
    "        'friends': [{'name': 'Sally'}, {'name': 'Dave'}, {'name': 'Rick'}, {'name': 'James'}]}\n",
    "print('\\n' +'-'*50)\n",
    "print(\"No pretty printing\")\n",
    "print('-'*50)\n",
    "print(dict_)\n",
    "print('\\n' + '-'*50)\n",
    "print(\"Default pretty printing\")\n",
    "print('-'*50)\n",
    "pprint.pprint(dict_)\n",
    "print('\\n' + '-'*50)\n",
    "print(\"Custom pretty printing\")\n",
    "print('-'*50)\n",
    "pp = pprint.PrettyPrinter(indent=4)   # create a pprint object with desired attributes (more on this later)\n",
    "pp.pprint(dict_)"
   ]
  },
  {
   "cell_type": "markdown",
   "metadata": {},
   "source": [
    "## Example (PyCharm)\n",
    "Common pattern: Dictionary as a set of  Counters\n",
    "+ Say, we have a long list of integers\n",
    "+ [0,1,1,3,1,3,6,1,8,2,8,7,5,0,2,2,1,5,4,7,0,0,3,1,2,9,9,4,3,2,5,3,1,2,1,3,3,2,2,4,5,1,6,7,9,8,1,4,2,5,6,8,0,0,0,1,1,2,6,1,3,2,4,2,5,7,3,1,3,4,6]\n",
    "+ Count the number of times each digit appears\n",
    "+ Thought Process?"
   ]
  },
  {
   "cell_type": "code",
   "execution_count": null,
   "metadata": {
    "collapsed": true
   },
   "outputs": [],
   "source": []
  },
  {
   "cell_type": "markdown",
   "metadata": {},
   "source": [
    "# The <font color='blue'>while</font> loop\n",
    "\n",
    "+ For loops are considered _**definite**_ loops as they will execute a statement block for a fixed number of times, known apriori\n",
    "+ For example:\n",
    "    + loop as many times as there are elements in the list\n",
    "    ```python\n",
    "    for element in list:\n",
    "        <do something>\n",
    "    ```\n",
    "    + loop n times: \n",
    "\n",
    "    ```python\n",
    "    n=5\n",
    "    for i in range(n): \n",
    "        <do something>\n",
    "    ```\n",
    "    \n",
    "+ There are cases when it is not possible to know the number of iterations in advance\n",
    "    + Asking a user for input\n",
    "    + Processing a queue\n",
    "    + ...\n",
    "\n",
    "+ **While loops** are _**indefinite**_ and will repeat as long as some condition holds (_**evaluates to True**_)\n",
    "\n",
    "```python\n",
    "# general syntax\n",
    "while <condition>:\n",
    "    <block statement>\n",
    "```\n",
    "\n",
    "```python\n",
    "# example\n",
    "n = 5\n",
    "while n > 0:       # n might not be available until runtime\n",
    "    print(n)\n",
    "    n -= 1         # make sure that the conditioning variable is updated inside while loop\n",
    "```"
   ]
  },
  {
   "cell_type": "code",
   "execution_count": 25,
   "metadata": {},
   "outputs": [
    {
     "name": "stdout",
     "output_type": "stream",
     "text": [
      "5\n",
      "4\n",
      "3\n",
      "2\n",
      "1\n"
     ]
    }
   ],
   "source": [
    "n = 5\n",
    "while n > 0:       # n might not be available until runtime\n",
    "    print(n)\n",
    "    n -= 1         # make sure that the conditioning variable is updated inside while loop"
   ]
  },
  {
   "cell_type": "markdown",
   "metadata": {},
   "source": [
    "### Order is imporant in while loops.\n",
    "Updating the conditioning variable _**before**_ or _**after**_ executing the statement block will affect the outcome\n",
    "```python\n",
    "n = 5\n",
    "while n > 0:\n",
    "    n -= 1\n",
    "    print(n)\n",
    "```"
   ]
  },
  {
   "cell_type": "code",
   "execution_count": 26,
   "metadata": {},
   "outputs": [
    {
     "name": "stdout",
     "output_type": "stream",
     "text": [
      "4\n",
      "3\n",
      "2\n",
      "1\n",
      "0\n"
     ]
    }
   ],
   "source": [
    "n = 5\n",
    "while n > 0:\n",
    "    n -= 1\n",
    "    print(n)"
   ]
  },
  {
   "cell_type": "markdown",
   "metadata": {},
   "source": [
    "## Infinite loops\n",
    "\n",
    "+ Since the conditioning variable controls how many times a while loop executes, it is possible and very easy to make a loop that will never end, a.k.a an 'infinite loop' (a **common programming error**) \n",
    "\n",
    "+ Infinite loops will not damage your computer, but they will cause your program to freeze. You will need to force your program to stop running (Ctrl+c on terminal; interrupt kernel widget in jupyter notebook).\n",
    "\n",
    "Example:\n",
    "```python\n",
    "n = 5\n",
    "while n > 0:\n",
    "    print(n)\n",
    "```"
   ]
  },
  {
   "cell_type": "code",
   "execution_count": null,
   "metadata": {
    "collapsed": true
   },
   "outputs": [],
   "source": []
  },
  {
   "cell_type": "markdown",
   "metadata": {},
   "source": [
    "## Control Flow (Demonstrate in PyChharm - debug mode)\n",
    "### *<font color='blue'>break</font>* keyword\n",
    "+ to stop the current loop from running any further (**break out of the loop**)\n",
    "\n",
    "```python\n",
    "numbers = [0, 1, 2, 3, 4, 5]\n",
    "letters = ['a', 'b', 'c']\n",
    "for char in letters:                         # outer loop\n",
    "   for index, number in enumerate(numbers):  # inner loop; enumerate gives (index, value) tuples (see help)\n",
    "       if index > 2:\n",
    "           break\n",
    "       print(char, number)\n",
    "```"
   ]
  },
  {
   "cell_type": "code",
   "execution_count": 32,
   "metadata": {},
   "outputs": [
    {
     "data": {
      "text/plain": [
       "[(0, 'a'), (1, 'b'), (2, 'c'), (3, 'd')]"
      ]
     },
     "execution_count": 32,
     "metadata": {},
     "output_type": "execute_result"
    }
   ],
   "source": [
    "x = ['a', 'b', 'c', 'd']\n",
    "print(list(enumerate(x)))"
   ]
  },
  {
   "cell_type": "code",
   "execution_count": 28,
   "metadata": {},
   "outputs": [
    {
     "name": "stdout",
     "output_type": "stream",
     "text": [
      "a 0\n",
      "a 1\n",
      "a 2\n",
      "b 0\n",
      "b 1\n",
      "b 2\n",
      "c 0\n",
      "c 1\n",
      "c 2\n"
     ]
    }
   ],
   "source": [
    "numbers = [0, 1, 2, 3, 4, 5]\n",
    "letters = ['a', 'b', 'c']\n",
    "for char in letters:                         # outer loop\n",
    "   for index, number in enumerate(numbers):  # inner loop; enumerate gives (index, value) tuples (see help)\n",
    "       if index > 2:\n",
    "           break\n",
    "       print(char, number)"
   ]
  },
  {
   "cell_type": "markdown",
   "metadata": {},
   "source": [
    "\n",
    "### *<font color='blue'>continue</font>* keyword\n",
    "\n",
    "+ to skip over the current iteration in current loop (**continue without completing current iteration**)\n",
    "\n",
    "```python\n",
    "numbers = [0, 1, 2, 3, 4, 5]\n",
    "letters = ['a', 'b', 'c']\n",
    "for char in letters:\n",
    "   for index, number in enumerate(numbers):\n",
    "       if index % 2 == 0:\n",
    "           continue\n",
    "       print(char, number)\n",
    "```"
   ]
  },
  {
   "cell_type": "code",
   "execution_count": 31,
   "metadata": {},
   "outputs": [
    {
     "name": "stdout",
     "output_type": "stream",
     "text": [
      "a 1\n",
      "a 3\n",
      "a 5\n",
      "b 1\n",
      "b 3\n",
      "b 5\n",
      "c 1\n",
      "c 3\n",
      "c 5\n"
     ]
    }
   ],
   "source": [
    "numbers = [0, 1, 2, 3, 4, 5]\n",
    "letters = ['a', 'b', 'c']\n",
    "for char in letters:\n",
    "   for index, number in enumerate(numbers):\n",
    "       if index % 2 == 0:\n",
    "           continue\n",
    "       print(char, number)"
   ]
  },
  {
   "cell_type": "markdown",
   "metadata": {},
   "source": [
    "## Ensuring that a loop executes at least once\n",
    "\n",
    "Sometimes it is important to ensure that a while loop will always execute. The following pattern will ensure this.\n",
    "\n",
    "```python\n",
    "while True:\n",
    "    <block statement>\n",
    "    if <condition>:\n",
    "        break\n",
    "```\n",
    "\n",
    "Requesting user input is an example of where this pattern is useful.\n",
    "\n",
    "```python\n",
    "numbers = []\n",
    "while True:\n",
    "    temp = input(\"Enter a number ('#' to continue)\")\n",
    "    if temp is '#':\n",
    "        print(\"Finished capturing numbers\")\n",
    "        break\n",
    "    else:\n",
    "        if temp.isdigit():\n",
    "            numbers.append(int(temp))\n",
    "        else:\n",
    "            print('Input only numbers')\n",
    "print(numbers)\n",
    "print(\"Average:\", sum(numbers)/len(numbers))\n",
    "```"
   ]
  },
  {
   "cell_type": "code",
   "execution_count": 33,
   "metadata": {},
   "outputs": [
    {
     "name": "stdout",
     "output_type": "stream",
     "text": [
      "Enter a number ('#' to continue)10\n",
      "Enter a number ('#' to continue)20\n",
      "Enter a number ('#' to continue)a\n",
      "Input only numbers\n",
      "Enter a number ('#' to continue)40\n",
      "Enter a number ('#' to continue)30\n",
      "Enter a number ('#' to continue)#\n",
      "Finished capturing numbers\n",
      "[10, 20, 40, 30]\n",
      "Average: 25.0\n"
     ]
    }
   ],
   "source": [
    "numbers = []\n",
    "while True:\n",
    "    temp = input(\"Enter a number ('#' to continue)\")\n",
    "    if temp is '#':\n",
    "        print(\"Finished capturing numbers\")\n",
    "        break\n",
    "    else:\n",
    "        if temp.isdigit():\n",
    "            numbers.append(int(temp))\n",
    "        else:\n",
    "            print('Input only numbers')\n",
    "print(numbers)\n",
    "print(\"Average:\", sum(numbers)/len(numbers))"
   ]
  },
  {
   "cell_type": "code",
   "execution_count": 35,
   "metadata": {
    "collapsed": true
   },
   "outputs": [
    {
     "name": "stdout",
     "output_type": "stream",
     "text": [
      "Help on class str in module builtins:\n",
      "\n",
      "class str(object)\n",
      " |  str(object='') -> str\n",
      " |  str(bytes_or_buffer[, encoding[, errors]]) -> str\n",
      " |  \n",
      " |  Create a new string object from the given object. If encoding or\n",
      " |  errors is specified, then the object must expose a data buffer\n",
      " |  that will be decoded using the given encoding and error handler.\n",
      " |  Otherwise, returns the result of object.__str__() (if defined)\n",
      " |  or repr(object).\n",
      " |  encoding defaults to sys.getdefaultencoding().\n",
      " |  errors defaults to 'strict'.\n",
      " |  \n",
      " |  Methods defined here:\n",
      " |  \n",
      " |  __add__(self, value, /)\n",
      " |      Return self+value.\n",
      " |  \n",
      " |  __contains__(self, key, /)\n",
      " |      Return key in self.\n",
      " |  \n",
      " |  __eq__(self, value, /)\n",
      " |      Return self==value.\n",
      " |  \n",
      " |  __format__(...)\n",
      " |      S.__format__(format_spec) -> str\n",
      " |      \n",
      " |      Return a formatted version of S as described by format_spec.\n",
      " |  \n",
      " |  __ge__(self, value, /)\n",
      " |      Return self>=value.\n",
      " |  \n",
      " |  __getattribute__(self, name, /)\n",
      " |      Return getattr(self, name).\n",
      " |  \n",
      " |  __getitem__(self, key, /)\n",
      " |      Return self[key].\n",
      " |  \n",
      " |  __getnewargs__(...)\n",
      " |  \n",
      " |  __gt__(self, value, /)\n",
      " |      Return self>value.\n",
      " |  \n",
      " |  __hash__(self, /)\n",
      " |      Return hash(self).\n",
      " |  \n",
      " |  __iter__(self, /)\n",
      " |      Implement iter(self).\n",
      " |  \n",
      " |  __le__(self, value, /)\n",
      " |      Return self<=value.\n",
      " |  \n",
      " |  __len__(self, /)\n",
      " |      Return len(self).\n",
      " |  \n",
      " |  __lt__(self, value, /)\n",
      " |      Return self<value.\n",
      " |  \n",
      " |  __mod__(self, value, /)\n",
      " |      Return self%value.\n",
      " |  \n",
      " |  __mul__(self, value, /)\n",
      " |      Return self*value.n\n",
      " |  \n",
      " |  __ne__(self, value, /)\n",
      " |      Return self!=value.\n",
      " |  \n",
      " |  __new__(*args, **kwargs) from builtins.type\n",
      " |      Create and return a new object.  See help(type) for accurate signature.\n",
      " |  \n",
      " |  __repr__(self, /)\n",
      " |      Return repr(self).\n",
      " |  \n",
      " |  __rmod__(self, value, /)\n",
      " |      Return value%self.\n",
      " |  \n",
      " |  __rmul__(self, value, /)\n",
      " |      Return self*value.\n",
      " |  \n",
      " |  __sizeof__(...)\n",
      " |      S.__sizeof__() -> size of S in memory, in bytes\n",
      " |  \n",
      " |  __str__(self, /)\n",
      " |      Return str(self).\n",
      " |  \n",
      " |  capitalize(...)\n",
      " |      S.capitalize() -> str\n",
      " |      \n",
      " |      Return a capitalized version of S, i.e. make the first character\n",
      " |      have upper case and the rest lower case.\n",
      " |  \n",
      " |  casefold(...)\n",
      " |      S.casefold() -> str\n",
      " |      \n",
      " |      Return a version of S suitable for caseless comparisons.\n",
      " |  \n",
      " |  center(...)\n",
      " |      S.center(width[, fillchar]) -> str\n",
      " |      \n",
      " |      Return S centered in a string of length width. Padding is\n",
      " |      done using the specified fill character (default is a space)\n",
      " |  \n",
      " |  count(...)\n",
      " |      S.count(sub[, start[, end]]) -> int\n",
      " |      \n",
      " |      Return the number of non-overlapping occurrences of substring sub in\n",
      " |      string S[start:end].  Optional arguments start and end are\n",
      " |      interpreted as in slice notation.\n",
      " |  \n",
      " |  encode(...)\n",
      " |      S.encode(encoding='utf-8', errors='strict') -> bytes\n",
      " |      \n",
      " |      Encode S using the codec registered for encoding. Default encoding\n",
      " |      is 'utf-8'. errors may be given to set a different error\n",
      " |      handling scheme. Default is 'strict' meaning that encoding errors raise\n",
      " |      a UnicodeEncodeError. Other possible values are 'ignore', 'replace' and\n",
      " |      'xmlcharrefreplace' as well as any other name registered with\n",
      " |      codecs.register_error that can handle UnicodeEncodeErrors.\n",
      " |  \n",
      " |  endswith(...)\n",
      " |      S.endswith(suffix[, start[, end]]) -> bool\n",
      " |      \n",
      " |      Return True if S ends with the specified suffix, False otherwise.\n",
      " |      With optional start, test S beginning at that position.\n",
      " |      With optional end, stop comparing S at that position.\n",
      " |      suffix can also be a tuple of strings to try.\n",
      " |  \n",
      " |  expandtabs(...)\n",
      " |      S.expandtabs(tabsize=8) -> str\n",
      " |      \n",
      " |      Return a copy of S where all tab characters are expanded using spaces.\n",
      " |      If tabsize is not given, a tab size of 8 characters is assumed.\n",
      " |  \n",
      " |  find(...)\n",
      " |      S.find(sub[, start[, end]]) -> int\n",
      " |      \n",
      " |      Return the lowest index in S where substring sub is found,\n",
      " |      such that sub is contained within S[start:end].  Optional\n",
      " |      arguments start and end are interpreted as in slice notation.\n",
      " |      \n",
      " |      Return -1 on failure.\n",
      " |  \n",
      " |  format(...)\n",
      " |      S.format(*args, **kwargs) -> str\n",
      " |      \n",
      " |      Return a formatted version of S, using substitutions from args and kwargs.\n",
      " |      The substitutions are identified by braces ('{' and '}').\n",
      " |  \n",
      " |  format_map(...)\n",
      " |      S.format_map(mapping) -> str\n",
      " |      \n",
      " |      Return a formatted version of S, using substitutions from mapping.\n",
      " |      The substitutions are identified by braces ('{' and '}').\n",
      " |  \n",
      " |  index(...)\n",
      " |      S.index(sub[, start[, end]]) -> int\n",
      " |      \n",
      " |      Like S.find() but raise ValueError when the substring is not found.\n",
      " |  \n",
      " |  isalnum(...)\n",
      " |      S.isalnum() -> bool\n",
      " |      \n",
      " |      Return True if all characters in S are alphanumeric\n",
      " |      and there is at least one character in S, False otherwise.\n",
      " |  \n",
      " |  isalpha(...)\n",
      " |      S.isalpha() -> bool\n",
      " |      \n",
      " |      Return True if all characters in S are alphabetic\n",
      " |      and there is at least one character in S, False otherwise.\n",
      " |  \n",
      " |  isdecimal(...)\n",
      " |      S.isdecimal() -> bool\n",
      " |      \n",
      " |      Return True if there are only decimal characters in S,\n",
      " |      False otherwise.\n",
      " |  \n",
      " |  isdigit(...)\n",
      " |      S.isdigit() -> bool\n",
      " |      \n",
      " |      Return True if all characters in S are digits\n",
      " |      and there is at least one character in S, False otherwise.\n",
      " |  \n",
      " |  isidentifier(...)\n",
      " |      S.isidentifier() -> bool\n",
      " |      \n",
      " |      Return True if S is a valid identifier according\n",
      " |      to the language definition.\n",
      " |      \n",
      " |      Use keyword.iskeyword() to test for reserved identifiers\n",
      " |      such as \"def\" and \"class\".\n",
      " |  \n",
      " |  islower(...)\n",
      " |      S.islower() -> bool\n",
      " |      \n",
      " |      Return True if all cased characters in S are lowercase and there is\n",
      " |      at least one cased character in S, False otherwise.\n",
      " |  \n",
      " |  isnumeric(...)\n",
      " |      S.isnumeric() -> bool\n",
      " |      \n",
      " |      Return True if there are only numeric characters in S,\n",
      " |      False otherwise.\n",
      " |  \n",
      " |  isprintable(...)\n",
      " |      S.isprintable() -> bool\n",
      " |      \n",
      " |      Return True if all characters in S are considered\n",
      " |      printable in repr() or S is empty, False otherwise.\n",
      " |  \n",
      " |  isspace(...)\n",
      " |      S.isspace() -> bool\n",
      " |      \n",
      " |      Return True if all characters in S are whitespace\n",
      " |      and there is at least one character in S, False otherwise.\n",
      " |  \n",
      " |  istitle(...)\n",
      " |      S.istitle() -> bool\n",
      " |      \n",
      " |      Return True if S is a titlecased string and there is at least one\n",
      " |      character in S, i.e. upper- and titlecase characters may only\n",
      " |      follow uncased characters and lowercase characters only cased ones.\n",
      " |      Return False otherwise.\n",
      " |  \n",
      " |  isupper(...)\n",
      " |      S.isupper() -> bool\n",
      " |      \n",
      " |      Return True if all cased characters in S are uppercase and there is\n",
      " |      at least one cased character in S, False otherwise.\n",
      " |  \n",
      " |  join(...)\n",
      " |      S.join(iterable) -> str\n",
      " |      \n",
      " |      Return a string which is the concatenation of the strings in the\n",
      " |      iterable.  The separator between elements is S.\n",
      " |  \n",
      " |  ljust(...)\n",
      " |      S.ljust(width[, fillchar]) -> str\n",
      " |      \n",
      " |      Return S left-justified in a Unicode string of length width. Padding is\n",
      " |      done using the specified fill character (default is a space).\n",
      " |  \n",
      " |  lower(...)\n",
      " |      S.lower() -> str\n",
      " |      \n",
      " |      Return a copy of the string S converted to lowercase.\n",
      " |  \n",
      " |  lstrip(...)\n",
      " |      S.lstrip([chars]) -> str\n",
      " |      \n",
      " |      Return a copy of the string S with leading whitespace removed.\n",
      " |      If chars is given and not None, remove characters in chars instead.\n",
      " |  \n",
      " |  partition(...)\n",
      " |      S.partition(sep) -> (head, sep, tail)\n",
      " |      \n",
      " |      Search for the separator sep in S, and return the part before it,\n",
      " |      the separator itself, and the part after it.  If the separator is not\n",
      " |      found, return S and two empty strings.\n",
      " |  \n",
      " |  replace(...)\n",
      " |      S.replace(old, new[, count]) -> str\n",
      " |      \n",
      " |      Return a copy of S with all occurrences of substring\n",
      " |      old replaced by new.  If the optional argument count is\n",
      " |      given, only the first count occurrences are replaced.\n",
      " |  \n",
      " |  rfind(...)\n",
      " |      S.rfind(sub[, start[, end]]) -> int\n",
      " |      \n",
      " |      Return the highest index in S where substring sub is found,\n",
      " |      such that sub is contained within S[start:end].  Optional\n",
      " |      arguments start and end are interpreted as in slice notation.\n",
      " |      \n",
      " |      Return -1 on failure.\n",
      " |  \n",
      " |  rindex(...)\n",
      " |      S.rindex(sub[, start[, end]]) -> int\n",
      " |      \n",
      " |      Like S.rfind() but raise ValueError when the substring is not found.\n",
      " |  \n",
      " |  rjust(...)\n",
      " |      S.rjust(width[, fillchar]) -> str\n",
      " |      \n",
      " |      Return S right-justified in a string of length width. Padding is\n",
      " |      done using the specified fill character (default is a space).\n",
      " |  \n",
      " |  rpartition(...)\n",
      " |      S.rpartition(sep) -> (head, sep, tail)\n",
      " |      \n",
      " |      Search for the separator sep in S, starting at the end of S, and return\n",
      " |      the part before it, the separator itself, and the part after it.  If the\n",
      " |      separator is not found, return two empty strings and S.\n",
      " |  \n",
      " |  rsplit(...)\n",
      " |      S.rsplit(sep=None, maxsplit=-1) -> list of strings\n",
      " |      \n",
      " |      Return a list of the words in S, using sep as the\n",
      " |      delimiter string, starting at the end of the string and\n",
      " |      working to the front.  If maxsplit is given, at most maxsplit\n",
      " |      splits are done. If sep is not specified, any whitespace string\n",
      " |      is a separator.\n",
      " |  \n",
      " |  rstrip(...)\n",
      " |      S.rstrip([chars]) -> str\n",
      " |      \n",
      " |      Return a copy of the string S with trailing whitespace removed.\n",
      " |      If chars is given and not None, remove characters in chars instead.\n",
      " |  \n",
      " |  split(...)\n",
      " |      S.split(sep=None, maxsplit=-1) -> list of strings\n",
      " |      \n",
      " |      Return a list of the words in S, using sep as the\n",
      " |      delimiter string.  If maxsplit is given, at most maxsplit\n",
      " |      splits are done. If sep is not specified or is None, any\n",
      " |      whitespace string is a separator and empty strings are\n",
      " |      removed from the result.\n",
      " |  \n",
      " |  splitlines(...)\n",
      " |      S.splitlines([keepends]) -> list of strings\n",
      " |      \n",
      " |      Return a list of the lines in S, breaking at line boundaries.\n",
      " |      Line breaks are not included in the resulting list unless keepends\n",
      " |      is given and true.\n",
      " |  \n",
      " |  startswith(...)\n",
      " |      S.startswith(prefix[, start[, end]]) -> bool\n",
      " |      \n",
      " |      Return True if S starts with the specified prefix, False otherwise.\n",
      " |      With optional start, test S beginning at that position.\n",
      " |      With optional end, stop comparing S at that position.\n",
      " |      prefix can also be a tuple of strings to try.\n",
      " |  \n",
      " |  strip(...)\n",
      " |      S.strip([chars]) -> str\n",
      " |      \n",
      " |      Return a copy of the string S with leading and trailing\n",
      " |      whitespace removed.\n",
      " |      If chars is given and not None, remove characters in chars instead.\n",
      " |  \n",
      " |  swapcase(...)\n",
      " |      S.swapcase() -> str\n",
      " |      \n",
      " |      Return a copy of S with uppercase characters converted to lowercase\n",
      " |      and vice versa.\n",
      " |  \n",
      " |  title(...)\n",
      " |      S.title() -> str\n",
      " |      \n",
      " |      Return a titlecased version of S, i.e. words start with title case\n",
      " |      characters, all remaining cased characters have lower case.\n",
      " |  \n",
      " |  translate(...)\n",
      " |      S.translate(table) -> str\n",
      " |      \n",
      " |      Return a copy of the string S in which each character has been mapped\n",
      " |      through the given translation table. The table must implement\n",
      " |      lookup/indexing via __getitem__, for instance a dictionary or list,\n",
      " |      mapping Unicode ordinals to Unicode ordinals, strings, or None. If\n",
      " |      this operation raises LookupError, the character is left untouched.\n",
      " |      Characters mapped to None are deleted.\n",
      " |  \n",
      " |  upper(...)\n",
      " |      S.upper() -> str\n",
      " |      \n",
      " |      Return a copy of S converted to uppercase.\n",
      " |  \n",
      " |  zfill(...)\n",
      " |      S.zfill(width) -> str\n",
      " |      \n",
      " |      Pad a numeric string S with zeros on the left, to fill a field\n",
      " |      of the specified width. The string S is never truncated.\n",
      " |  \n",
      " |  ----------------------------------------------------------------------\n",
      " |  Static methods defined here:\n",
      " |  \n",
      " |  maketrans(x, y=None, z=None, /)\n",
      " |      Return a translation table usable for str.translate().\n",
      " |      \n",
      " |      If there is only one argument, it must be a dictionary mapping Unicode\n",
      " |      ordinals (integers) or characters to Unicode ordinals, strings or None.\n",
      " |      Character keys will be then converted to ordinals.\n",
      " |      If there are two arguments, they must be strings of equal length, and\n",
      " |      in the resulting dictionary, each character in x will be mapped to the\n",
      " |      character at the same position in y. If there is a third argument, it\n",
      " |      must be a string, whose characters will be mapped to None in the result.\n",
      "\n"
     ]
    }
   ],
   "source": [
    "help(str)"
   ]
  },
  {
   "cell_type": "code",
   "execution_count": null,
   "metadata": {
    "collapsed": true
   },
   "outputs": [],
   "source": []
  },
  {
   "cell_type": "code",
   "execution_count": null,
   "metadata": {
    "collapsed": true
   },
   "outputs": [],
   "source": []
  }
 ],
 "metadata": {
  "anaconda-cloud": {},
  "kernelspec": {
   "display_name": "Python 3",
   "language": "python",
   "name": "python3"
  },
  "language_info": {
   "codemirror_mode": {
    "name": "ipython",
    "version": 3
   },
   "file_extension": ".py",
   "mimetype": "text/x-python",
   "name": "python",
   "nbconvert_exporter": "python",
   "pygments_lexer": "ipython3",
   "version": "3.6.1"
  }
 },
 "nbformat": 4,
 "nbformat_minor": 1
}
