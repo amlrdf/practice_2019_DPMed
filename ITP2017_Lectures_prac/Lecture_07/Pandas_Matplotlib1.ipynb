{
 "cells": [
  {
   "cell_type": "markdown",
   "metadata": {},
   "source": [
    "# Pandas  & Matplotlib 1 "
   ]
  },
  {
   "cell_type": "code",
   "execution_count": 1,
   "metadata": {},
   "outputs": [],
   "source": [
    "#load the libraries\n",
    "import pandas as pd\n",
    "import numpy as np"
   ]
  },
  {
   "cell_type": "markdown",
   "metadata": {},
   "source": [
    "A module can contain executable statements and function definitions. We use these import statements to initialize our script and the libraries we are going to use. They are run only at beginning of the script. <br>\n",
    "\n",
    "In this case we are gaining access to **all** of the pandas module's functions and binding it to a local scope ( *<font color='red'>local很重要</font>* ). In many cases (such as Matplotlib below) we specifiy the sub-library we are interested in and only gain acccess to the sub-library's scope of functions."
   ]
  },
  {
   "cell_type": "markdown",
   "metadata": {},
   "source": [
    "<img src='./Images/pandas_logo.png'>"
   ]
  },
  {
   "cell_type": "markdown",
   "metadata": {},
   "source": [
    "**PANDAS** is an open souce Python Library for data analysis.<br>\n",
    "It works using 2 Major Data Structures:\n",
    "1. Series\n",
    "2. DataFrame"
   ]
  },
  {
   "cell_type": "markdown",
   "metadata": {},
   "source": [
    "## Basic Pandas Series Usage "
   ]
  },
  {
   "cell_type": "markdown",
   "metadata": {},
   "source": [
    "**Series**: One dimensional mutable list-like object with index labels;\n",
    "- Can take mixed data types\n",
    "- Follows the python convention of zero first index\n",
    "- Series Object has useful methods (functions);\n",
    "-- these can be applied to the Series Object"
   ]
  },
  {
   "cell_type": "code",
   "execution_count": 3,
   "metadata": {
    "scrolled": true
   },
   "outputs": [
    {
     "data": {
      "text/plain": [
       "0      Moscow Mule\n",
       "1    Gin and Tonic\n",
       "2          Jameson\n",
       "3                3\n",
       "dtype: object"
      ]
     },
     "execution_count": 3,
     "metadata": {},
     "output_type": "execute_result"
    }
   ],
   "source": [
    "#convert a list to a pandas series\n",
    "#note the mixed data types\n",
    "\n",
    "_ser_ = pd.Series(['Moscow Mule','Gin and Tonic','Jameson',3]) \n",
    "\n",
    "_ser_"
   ]
  },
  {
   "cell_type": "markdown",
   "metadata": {},
   "source": [
    "> Notice that in this jupyter notebook (IPython) the code runs interactively. <br> </br> In non-interactive python useage you would have to put a print statement to view the pandas objects contents. For pycharm or when running code from scripts, you must still use the print statement."
   ]
  },
  {
   "cell_type": "code",
   "execution_count": 4,
   "metadata": {},
   "outputs": [
    {
     "data": {
      "text/plain": [
       "RangeIndex(start=0, stop=4, step=1)"
      ]
     },
     "execution_count": 4,
     "metadata": {},
     "output_type": "execute_result"
    }
   ],
   "source": [
    "#inspect the non-explicit index of the series object\n",
    "_ser_.index"
   ]
  },
  {
   "cell_type": "markdown",
   "metadata": {},
   "source": [
    "***Pandas series objects have lots of list like properties: \n",
    "But a major difference is that we can specify the index kind of like a specialized dictionary***"
   ]
  },
  {
   "cell_type": "code",
   "execution_count": 19,
   "metadata": {
    "scrolled": true
   },
   "outputs": [
    {
     "data": {
      "text/plain": [
       "1    Gin and Tonic\n",
       "2          Jameson\n",
       "3                3\n",
       "dtype: object"
      ]
     },
     "execution_count": 19,
     "metadata": {},
     "output_type": "execute_result"
    }
   ],
   "source": [
    "#inspect the first element in the series object, \":\" \n",
    "#always including towards the high index ends (unique)\n",
    "_ser_[1:]"
   ]
  },
  {
   "cell_type": "code",
   "execution_count": 17,
   "metadata": {},
   "outputs": [
    {
     "data": {
      "text/plain": [
       "0      Moscow Mule\n",
       "1    Gin and Tonic\n",
       "2          Jameson\n",
       "3                3\n",
       "dtype: object"
      ]
     },
     "execution_count": 17,
     "metadata": {},
     "output_type": "execute_result"
    }
   ],
   "source": [
    "# allows for negative index slicing (discuss more in the slicing)\n",
    "_ser_[-4:]"
   ]
  },
  {
   "cell_type": "code",
   "execution_count": 27,
   "metadata": {},
   "outputs": [
    {
     "data": {
      "text/plain": [
       "0      Moscow Mule\n",
       "1    Gin and Tonic\n",
       "2          Jameson\n",
       "3       Pickleback\n",
       "dtype: object"
      ]
     },
     "execution_count": 27,
     "metadata": {},
     "output_type": "execute_result"
    }
   ],
   "source": [
    "#item reassignment\n",
    "_ser_[3] = 'Pickleback'\n",
    "_ser_"
   ]
  },
  {
   "cell_type": "code",
   "execution_count": null,
   "metadata": {
    "collapsed": true
   },
   "outputs": [],
   "source": [
    "# adding to Series example\n"
   ]
  },
  {
   "cell_type": "code",
   "execution_count": null,
   "metadata": {
    "collapsed": true
   },
   "outputs": [],
   "source": [
    "#dict example\n"
   ]
  },
  {
   "cell_type": "code",
   "execution_count": 24,
   "metadata": {},
   "outputs": [
    {
     "data": {
      "text/plain": [
       "A    sigma\n",
       "B     beta\n",
       "C      rho\n",
       "D    theta\n",
       "dtype: object"
      ]
     },
     "execution_count": 24,
     "metadata": {},
     "output_type": "execute_result"
    }
   ],
   "source": [
    "#create a pandas series from a list with explicit index labels\n",
    "s_ix = pd.Series(['sigma','beta','rho','theta'],index=['A','B','C','D'])\n",
    "s_ix"
   ]
  },
  {
   "cell_type": "code",
   "execution_count": 28,
   "metadata": {},
   "outputs": [
    {
     "data": {
      "text/plain": [
       "'beta'"
      ]
     },
     "execution_count": 28,
     "metadata": {},
     "output_type": "execute_result"
    }
   ],
   "source": [
    "#inspect the value at a explicit index\n",
    "# dictionary style access\n",
    "s_ix['B']"
   ]
  },
  {
   "cell_type": "code",
   "execution_count": 32,
   "metadata": {},
   "outputs": [
    {
     "data": {
      "text/plain": [
       "A    sigma\n",
       "B     beta\n",
       "C      rho\n",
       "D    theta\n",
       "dtype: object"
      ]
     },
     "execution_count": 32,
     "metadata": {},
     "output_type": "execute_result"
    }
   ],
   "source": [
    "#unlike a dictionary we can preform list style slicing\n",
    "s_ix['A':'D']"
   ]
  },
  {
   "cell_type": "code",
   "execution_count": 30,
   "metadata": {},
   "outputs": [
    {
     "data": {
      "text/plain": [
       "A    False\n",
       "B    False\n",
       "C    False\n",
       "D     True\n",
       "dtype: bool"
      ]
     },
     "execution_count": 30,
     "metadata": {},
     "output_type": "execute_result"
    }
   ],
   "source": [
    "#we can also use a boolean \n",
    "s_ix=='theta'"
   ]
  },
  {
   "cell_type": "code",
   "execution_count": null,
   "metadata": {
    "collapsed": true
   },
   "outputs": [],
   "source": [
    "#apply selection; similar to dictionary\n",
    "s_ix[s_ix=='theta']"
   ]
  },
  {
   "cell_type": "markdown",
   "metadata": {},
   "source": [
    "> By creating a pandas series object you now have access to the Pandas \n",
    "> series functions; This is highly useful.\n",
    "\n",
    "> inspect these functions by *dir(pandas_obj)*"
   ]
  },
  {
   "cell_type": "code",
   "execution_count": 37,
   "metadata": {
    "scrolled": true
   },
   "outputs": [
    {
     "name": "stdout",
     "output_type": "stream",
     "text": [
      "['T',\n",
      " '_AXIS_ALIASES',\n",
      " '_AXIS_IALIASES',\n",
      " '_AXIS_LEN',\n",
      " '_AXIS_NAMES',\n",
      " '_AXIS_NUMBERS',\n",
      " '_AXIS_ORDERS',\n",
      " '_AXIS_REVERSED',\n",
      " '_AXIS_SLICEMAP',\n",
      " '__abs__',\n",
      " '__add__',\n",
      " '__and__',\n",
      " '__array__',\n",
      " '__array_prepare__',\n",
      " '__array_priority__',\n",
      " '__array_wrap__',\n",
      " '__bool__',\n",
      " '__bytes__',\n",
      " '__class__',\n",
      " '__contains__',\n",
      " '__copy__',\n",
      " '__deepcopy__',\n",
      " '__delattr__',\n",
      " '__delitem__',\n",
      " '__dict__',\n",
      " '__dir__',\n",
      " '__div__',\n",
      " '__divmod__',\n",
      " '__doc__',\n",
      " '__eq__',\n",
      " '__finalize__',\n",
      " '__float__',\n",
      " '__floordiv__',\n",
      " '__format__',\n",
      " '__ge__',\n",
      " '__getattr__',\n",
      " '__getattribute__',\n",
      " '__getitem__',\n",
      " '__getstate__',\n",
      " '__gt__',\n",
      " '__hash__',\n",
      " '__iadd__',\n",
      " '__imul__',\n",
      " '__init__',\n",
      " '__init_subclass__',\n",
      " '__int__',\n",
      " '__invert__',\n",
      " '__ipow__',\n",
      " '__isub__',\n",
      " '__iter__',\n",
      " '__itruediv__',\n",
      " '__le__',\n",
      " '__len__',\n",
      " '__long__',\n",
      " '__lt__',\n",
      " '__mod__',\n",
      " '__module__',\n",
      " '__mul__',\n",
      " '__ne__',\n",
      " '__neg__',\n",
      " '__new__',\n",
      " '__nonzero__',\n",
      " '__or__',\n",
      " '__pow__',\n",
      " '__radd__',\n",
      " '__rand__',\n",
      " '__rdiv__',\n",
      " '__reduce__',\n",
      " '__reduce_ex__',\n",
      " '__repr__',\n",
      " '__rfloordiv__',\n",
      " '__rmod__',\n",
      " '__rmul__',\n",
      " '__ror__',\n",
      " '__round__',\n",
      " '__rpow__',\n",
      " '__rsub__',\n",
      " '__rtruediv__',\n",
      " '__rxor__',\n",
      " '__setattr__',\n",
      " '__setitem__',\n",
      " '__setstate__',\n",
      " '__sizeof__',\n",
      " '__str__',\n",
      " '__sub__',\n",
      " '__subclasshook__',\n",
      " '__truediv__',\n",
      " '__unicode__',\n",
      " '__weakref__',\n",
      " '__xor__',\n",
      " '_accessors',\n",
      " '_add_numeric_operations',\n",
      " '_add_series_only_operations',\n",
      " '_add_series_or_dataframe_operations',\n",
      " '_agg_by_level',\n",
      " '_agg_doc',\n",
      " '_aggregate',\n",
      " '_aggregate_multiple_funcs',\n",
      " '_align_frame',\n",
      " '_align_series',\n",
      " '_allow_index_ops',\n",
      " '_at',\n",
      " '_binop',\n",
      " '_box_item_values',\n",
      " '_builtin_table',\n",
      " '_can_hold_na',\n",
      " '_check_inplace_setting',\n",
      " '_check_is_chained_assignment_possible',\n",
      " '_check_percentile',\n",
      " '_check_setitem_copy',\n",
      " '_clear_item_cache',\n",
      " '_clip_with_scalar',\n",
      " '_consolidate',\n",
      " '_consolidate_inplace',\n",
      " '_construct_axes_dict',\n",
      " '_construct_axes_dict_for_slice',\n",
      " '_construct_axes_dict_from',\n",
      " '_construct_axes_from_arguments',\n",
      " '_constructor',\n",
      " '_constructor_expanddim',\n",
      " '_constructor_sliced',\n",
      " '_convert',\n",
      " '_create_indexer',\n",
      " '_cython_table',\n",
      " '_dir_additions',\n",
      " '_dir_deletions',\n",
      " '_expand_axes',\n",
      " '_from_axes',\n",
      " '_get_axis',\n",
      " '_get_axis_name',\n",
      " '_get_axis_number',\n",
      " '_get_axis_resolvers',\n",
      " '_get_block_manager_axis',\n",
      " '_get_bool_data',\n",
      " '_get_cacher',\n",
      " '_get_index_resolvers',\n",
      " '_get_item_cache',\n",
      " '_get_numeric_data',\n",
      " '_get_values',\n",
      " '_get_values_tuple',\n",
      " '_get_with',\n",
      " '_gotitem',\n",
      " '_iat',\n",
      " '_iget_item_cache',\n",
      " '_iloc',\n",
      " '_index',\n",
      " '_indexed_same',\n",
      " '_info_axis',\n",
      " '_info_axis_name',\n",
      " '_info_axis_number',\n",
      " '_init_mgr',\n",
      " '_internal_names',\n",
      " '_internal_names_set',\n",
      " '_is_builtin_func',\n",
      " '_is_cached',\n",
      " '_is_cython_func',\n",
      " '_is_datelike_mixed_type',\n",
      " '_is_mixed_type',\n",
      " '_is_numeric_mixed_type',\n",
      " '_is_view',\n",
      " '_ix',\n",
      " '_ixs',\n",
      " '_loc',\n",
      " '_make_cat_accessor',\n",
      " '_make_dt_accessor',\n",
      " '_make_str_accessor',\n",
      " '_maybe_cache_changed',\n",
      " '_maybe_update_cacher',\n",
      " '_metadata',\n",
      " '_needs_reindex_multi',\n",
      " '_obj_with_exclusions',\n",
      " '_protect_consolidate',\n",
      " '_reduce',\n",
      " '_reindex_axes',\n",
      " '_reindex_axis',\n",
      " '_reindex_indexer',\n",
      " '_reindex_multi',\n",
      " '_reindex_with_indexers',\n",
      " '_repr_data_resource_',\n",
      " '_repr_latex_',\n",
      " '_reset_cache',\n",
      " '_reset_cacher',\n",
      " '_selected_obj',\n",
      " '_selection',\n",
      " '_selection_list',\n",
      " '_selection_name',\n",
      " '_set_as_cached',\n",
      " '_set_axis',\n",
      " '_set_axis_name',\n",
      " '_set_is_copy',\n",
      " '_set_item',\n",
      " '_set_labels',\n",
      " '_set_name',\n",
      " '_set_subtyp',\n",
      " '_set_values',\n",
      " '_set_with',\n",
      " '_set_with_engine',\n",
      " '_setup_axes',\n",
      " '_shallow_copy',\n",
      " '_slice',\n",
      " '_stat_axis',\n",
      " '_stat_axis_name',\n",
      " '_stat_axis_number',\n",
      " '_try_aggregate_string_function',\n",
      " '_typ',\n",
      " '_unpickle_series_compat',\n",
      " '_update_inplace',\n",
      " '_validate_dtype',\n",
      " '_values',\n",
      " '_where',\n",
      " '_xs',\n",
      " 'abs',\n",
      " 'add',\n",
      " 'add_prefix',\n",
      " 'add_suffix',\n",
      " 'agg',\n",
      " 'aggregate',\n",
      " 'align',\n",
      " 'all',\n",
      " 'any',\n",
      " 'append',\n",
      " 'apply',\n",
      " 'argmax',\n",
      " 'argmin',\n",
      " 'argsort',\n",
      " 'as_blocks',\n",
      " 'as_matrix',\n",
      " 'asfreq',\n",
      " 'asobject',\n",
      " 'asof',\n",
      " 'astype',\n",
      " 'at',\n",
      " 'at_time',\n",
      " 'autocorr',\n",
      " 'axes',\n",
      " 'base',\n",
      " 'between',\n",
      " 'between_time',\n",
      " 'bfill',\n",
      " 'blocks',\n",
      " 'bool',\n",
      " 'clip',\n",
      " 'clip_lower',\n",
      " 'clip_upper',\n",
      " 'combine',\n",
      " 'combine_first',\n",
      " 'compound',\n",
      " 'compress',\n",
      " 'consolidate',\n",
      " 'convert_objects',\n",
      " 'copy',\n",
      " 'corr',\n",
      " 'count',\n",
      " 'cov',\n",
      " 'cummax',\n",
      " 'cummin',\n",
      " 'cumprod',\n",
      " 'cumsum',\n",
      " 'data',\n",
      " 'describe',\n",
      " 'diff',\n",
      " 'div',\n",
      " 'divide',\n",
      " 'dot',\n",
      " 'drop',\n",
      " 'drop_duplicates',\n",
      " 'dropna',\n",
      " 'dtype',\n",
      " 'dtypes',\n",
      " 'duplicated',\n",
      " 'empty',\n",
      " 'eq',\n",
      " 'equals',\n",
      " 'ewm',\n",
      " 'expanding',\n",
      " 'factorize',\n",
      " 'ffill',\n",
      " 'fillna',\n",
      " 'filter',\n",
      " 'first',\n",
      " 'first_valid_index',\n",
      " 'flags',\n",
      " 'floordiv',\n",
      " 'from_array',\n",
      " 'from_csv',\n",
      " 'ftype',\n",
      " 'ftypes',\n",
      " 'ge',\n",
      " 'get',\n",
      " 'get_dtype_counts',\n",
      " 'get_ftype_counts',\n",
      " 'get_value',\n",
      " 'get_values',\n",
      " 'groupby',\n",
      " 'gt',\n",
      " 'hasnans',\n",
      " 'head',\n",
      " 'hist',\n",
      " 'iat',\n",
      " 'idxmax',\n",
      " 'idxmin',\n",
      " 'iloc',\n",
      " 'imag',\n",
      " 'index',\n",
      " 'interpolate',\n",
      " 'is_copy',\n",
      " 'is_monotonic',\n",
      " 'is_monotonic_decreasing',\n",
      " 'is_monotonic_increasing',\n",
      " 'is_unique',\n",
      " 'isin',\n",
      " 'isnull',\n",
      " 'item',\n",
      " 'items',\n",
      " 'itemsize',\n",
      " 'iteritems',\n",
      " 'ix',\n",
      " 'keys',\n",
      " 'kurt',\n",
      " 'kurtosis',\n",
      " 'last',\n",
      " 'last_valid_index',\n",
      " 'le',\n",
      " 'loc',\n",
      " 'lt',\n",
      " 'mad',\n",
      " 'map',\n",
      " 'mask',\n",
      " 'max',\n",
      " 'mean',\n",
      " 'median',\n",
      " 'memory_usage',\n",
      " 'min',\n",
      " 'mod',\n",
      " 'mode',\n",
      " 'mul',\n",
      " 'multiply',\n",
      " 'name',\n",
      " 'nbytes',\n",
      " 'ndim',\n",
      " 'ne',\n",
      " 'nlargest',\n",
      " 'nonzero',\n",
      " 'notnull',\n",
      " 'nsmallest',\n",
      " 'nunique',\n",
      " 'pct_change',\n",
      " 'pipe',\n",
      " 'plot',\n",
      " 'pop',\n",
      " 'pow',\n",
      " 'prod',\n",
      " 'product',\n",
      " 'ptp',\n",
      " 'put',\n",
      " 'quantile',\n",
      " 'radd',\n",
      " 'rank',\n",
      " 'ravel',\n",
      " 'rdiv',\n",
      " 'real',\n",
      " 'reindex',\n",
      " 'reindex_axis',\n",
      " 'reindex_like',\n",
      " 'rename',\n",
      " 'rename_axis',\n",
      " 'reorder_levels',\n",
      " 'repeat',\n",
      " 'replace',\n",
      " 'resample',\n",
      " 'reset_index',\n",
      " 'reshape',\n",
      " 'rfloordiv',\n",
      " 'rmod',\n",
      " 'rmul',\n",
      " 'rolling',\n",
      " 'round',\n",
      " 'rpow',\n",
      " 'rsub',\n",
      " 'rtruediv',\n",
      " 'sample',\n",
      " 'searchsorted',\n",
      " 'select',\n",
      " 'sem',\n",
      " 'set_axis',\n",
      " 'set_value',\n",
      " 'shape',\n",
      " 'shift',\n",
      " 'size',\n",
      " 'skew',\n",
      " 'slice_shift',\n",
      " 'sort_index',\n",
      " 'sort_values',\n",
      " 'sortlevel',\n",
      " 'squeeze',\n",
      " 'std',\n",
      " 'str',\n",
      " 'strides',\n",
      " 'sub',\n",
      " 'subtract',\n",
      " 'sum',\n",
      " 'swapaxes',\n",
      " 'swaplevel',\n",
      " 'tail',\n",
      " 'take',\n",
      " 'to_clipboard',\n",
      " 'to_csv',\n",
      " 'to_dense',\n",
      " 'to_dict',\n",
      " 'to_excel',\n",
      " 'to_frame',\n",
      " 'to_hdf',\n",
      " 'to_json',\n",
      " 'to_latex',\n",
      " 'to_msgpack',\n",
      " 'to_period',\n",
      " 'to_pickle',\n",
      " 'to_sparse',\n",
      " 'to_sql',\n",
      " 'to_string',\n",
      " 'to_timestamp',\n",
      " 'to_xarray',\n",
      " 'tolist',\n",
      " 'transform',\n",
      " 'transpose',\n",
      " 'truediv',\n",
      " 'truncate',\n",
      " 'tshift',\n",
      " 'tz_convert',\n",
      " 'tz_localize',\n",
      " 'unique',\n",
      " 'unstack',\n",
      " 'update',\n",
      " 'valid',\n",
      " 'value_counts',\n",
      " 'values',\n",
      " 'var',\n",
      " 'view',\n",
      " 'where',\n",
      " 'xs']\n"
     ]
    }
   ],
   "source": [
    "#for example\n",
    "import pprint\n",
    "pprint.pprint (dir(s_ix));\n"
   ]
  },
  {
   "cell_type": "code",
   "execution_count": 39,
   "metadata": {},
   "outputs": [
    {
     "name": "stdout",
     "output_type": "stream",
     "text": [
      "False\n",
      "False\n"
     ]
    }
   ],
   "source": [
    "#check for membership\n",
    "print('thta' in s_ix.values);\n",
    "print ('kappa' in s_ix.values);"
   ]
  },
  {
   "cell_type": "code",
   "execution_count": 40,
   "metadata": {},
   "outputs": [
    {
     "data": {
      "text/plain": [
       "sigma    1\n",
       "rho      1\n",
       "theta    1\n",
       "beta     1\n",
       "dtype: int64"
      ]
     },
     "execution_count": 40,
     "metadata": {},
     "output_type": "execute_result"
    }
   ],
   "source": [
    "#Using a Pandas function\n",
    "# For example find counts for the elements in our s_ix example;\n",
    "\n",
    "s_ix.value_counts()"
   ]
  },
  {
   "cell_type": "markdown",
   "metadata": {},
   "source": [
    "** In the Following Example:**  \n",
    "- create a new series object, \n",
    "- create a mask (filter)\n",
    "- look at our results"
   ]
  },
  {
   "cell_type": "code",
   "execution_count": 2,
   "metadata": {},
   "outputs": [
    {
     "name": "stdout",
     "output_type": "stream",
     "text": [
      "0.8\n"
     ]
    }
   ],
   "source": [
    "#create a pandas series object with the indexes being ['T','C','G','A'] \n",
    "# and random probabilities\n",
    "dna_prob = pd.Series([.8,.05,.12,.03],index=['T','C','G','A'])\n",
    "\n",
    "#apply a function from NumPY to our pandas series object\n",
    "print(np.max(dna_prob))"
   ]
  },
  {
   "cell_type": "code",
   "execution_count": 42,
   "metadata": {},
   "outputs": [
    {
     "data": {
      "text/plain": [
       "T    False\n",
       "C     True\n",
       "G     True\n",
       "A     True\n",
       "dtype: bool"
      ]
     },
     "execution_count": 42,
     "metadata": {},
     "output_type": "execute_result"
    }
   ],
   "source": [
    "#set a selection criteria (filter)\n",
    "low_prob = dna_prob < .2;\n",
    "low_prob"
   ]
  },
  {
   "cell_type": "code",
   "execution_count": 43,
   "metadata": {},
   "outputs": [
    {
     "data": {
      "text/plain": [
       "C    0.05\n",
       "G    0.12\n",
       "A    0.03\n",
       "dtype: float64"
      ]
     },
     "execution_count": 43,
     "metadata": {},
     "output_type": "execute_result"
    }
   ],
   "source": [
    "## apply selection filter criteria to the Series \n",
    "dna_prob[low_prob]"
   ]
  },
  {
   "cell_type": "code",
   "execution_count": 44,
   "metadata": {},
   "outputs": [
    {
     "data": {
      "text/plain": [
       "T    0.6400\n",
       "C    0.0025\n",
       "G    0.0144\n",
       "A    0.0009\n",
       "dtype: float64"
      ]
     },
     "execution_count": 44,
     "metadata": {},
     "output_type": "execute_result"
    }
   ],
   "source": [
    "#apply np functions to a Pandas Series object\n",
    "np.square(dna_prob)"
   ]
  },
  {
   "cell_type": "markdown",
   "metadata": {},
   "source": [
    "##   Working with Pandas DataFrames"
   ]
  },
  {
   "cell_type": "markdown",
   "metadata": {},
   "source": [
    "**DataFrame** : A group of Series like objects organized as rows and columns; \n",
    "            1. Looks like an Excel Spreadsheet or matrix;\n",
    "            2. Works on a similar level as pandas Series Objects;"
   ]
  },
  {
   "cell_type": "code",
   "execution_count": null,
   "metadata": {
    "collapsed": true,
    "scrolled": true
   },
   "outputs": [],
   "source": [
    "#create a dataframe from dicts\n",
    "df1 = pd.DataFrame({'a':[1,2,3,4,5],'b':[10,20,30,40,50],'c':[100,200,300,400,500],'d':[1000,2000,3000,4000,5000]})\n",
    "\n",
    "#inspect the object you just created\n",
    "type(df1)"
   ]
  },
  {
   "cell_type": "code",
   "execution_count": null,
   "metadata": {
    "collapsed": true
   },
   "outputs": [],
   "source": [
    "#View the DataFrame\n",
    "df1.head()\n",
    "\n",
    "print('\\n')\n",
    "\n",
    "df1.tail()"
   ]
  },
  {
   "cell_type": "markdown",
   "metadata": {},
   "source": [
    ">Passing indices to a dataframe to get a different view is in this general format:\n",
    "- dataframe[column name]\n",
    "- dataframe.ix[rows, columns]"
   ]
  },
  {
   "cell_type": "markdown",
   "metadata": {},
   "source": [
    "***Useful dataframe slicing functions***\n",
    "\n",
    "1. *.loc* works on **labels** in the index.\n",
    "2. *.iloc* works on the **index** positions (so it only takes **integers**).\n",
    "3. *.ix* usually tries to behave like loc but falls back to behaving like iloc if the label is not in the index."
   ]
  },
  {
   "cell_type": "markdown",
   "metadata": {},
   "source": [
    "***<font color='blue'> How would we get the value 400 using .iloc? </font>***"
   ]
  },
  {
   "cell_type": "code",
   "execution_count": null,
   "metadata": {
    "collapsed": true
   },
   "outputs": [],
   "source": [
    "#iloc\n"
   ]
  },
  {
   "cell_type": "markdown",
   "metadata": {},
   "source": [
    "***Slice Notation ***\n",
    "Consider DataFrame (a)\n",
    "\n",
    "1. a[start:end] # items start through end-1\n",
    "2. a[start:]    # items start through the rest of the array\n",
    "3. a[:end]      # items from the beginning through end-1\n",
    "4. a[:]         # a copy of the whole array"
   ]
  },
  {
   "cell_type": "code",
   "execution_count": null,
   "metadata": {
    "collapsed": true
   },
   "outputs": [],
   "source": [
    "# slice and dice the columns and rows\n",
    "# follows df.loc[row_indexer,column_indexer]\n",
    "\n",
    "# by column; example column 'C'\n",
    "df1.loc[:,'c']"
   ]
  },
  {
   "cell_type": "code",
   "execution_count": null,
   "metadata": {
    "collapsed": true
   },
   "outputs": [],
   "source": [
    "#row slice from one column\n",
    "df1.loc[0:3,'a']"
   ]
  },
  {
   "cell_type": "code",
   "execution_count": null,
   "metadata": {
    "collapsed": true
   },
   "outputs": [],
   "source": [
    "#multiple columns\n",
    "df1[['a','b']]"
   ]
  },
  {
   "cell_type": "markdown",
   "metadata": {},
   "source": [
    "***<font color='blue'> How would we view/find rows named 3,4?</font>***"
   ]
  },
  {
   "cell_type": "code",
   "execution_count": null,
   "metadata": {
    "collapsed": true
   },
   "outputs": [],
   "source": []
  },
  {
   "cell_type": "markdown",
   "metadata": {},
   "source": [
    "## Working with DF Row and Column labels"
   ]
  },
  {
   "cell_type": "markdown",
   "metadata": {},
   "source": [
    "As with the series object. DataFrame objects also contain very useful functions to manipulate your data. Here is a short example of something that might be useful when cleaning data, which is usually a major portion of your time in Data Analysis.\n",
    "\n",
    "-- In the following example. We use the dataframe.tolist() function to turn our row indices into a list and then use a list of new keys to rename the dataframe rows."
   ]
  },
  {
   "cell_type": "code",
   "execution_count": null,
   "metadata": {
    "collapsed": true
   },
   "outputs": [],
   "source": [
    "# to get the row names \n",
    "df1.index\n",
    "\n",
    "# convert rownames to a list\n",
    "orig = df1.index.tolist()\n",
    "orig"
   ]
  },
  {
   "cell_type": "code",
   "execution_count": null,
   "metadata": {
    "collapsed": true
   },
   "outputs": [],
   "source": [
    "#rename row.names\n",
    "newkeys = ['ones','twos','threes','fours','fives']\n",
    "\n",
    "#get help on this function\n",
    "help(df1.rename);"
   ]
  },
  {
   "cell_type": "code",
   "execution_count": null,
   "metadata": {
    "collapsed": true
   },
   "outputs": [],
   "source": [
    "# create a dictionary from the original keys and the newkeys\n",
    "new_keys = dict(zip(orig,newkeys))\n",
    "\n",
    "#use the pandas rename function\n",
    "df2 = df1.rename(new_keys)\n",
    "\n",
    "#new row_indices DF\n",
    "df2.index\n",
    "\n",
    "#oneliner?\n",
    "df1.rename(dict(zip(orig,newkeys)))"
   ]
  },
  {
   "cell_type": "code",
   "execution_count": null,
   "metadata": {
    "collapsed": true
   },
   "outputs": [],
   "source": [
    "# rename columns\n",
    "new_cols = ['A','B','C','D']\n",
    "df2.columns = new_cols # much easier\n",
    "df2"
   ]
  },
  {
   "cell_type": "markdown",
   "metadata": {},
   "source": [
    "## <font color='red'> Pandas Functions and Axis </font> <br> </br>\n",
    "\n",
    "\n",
    "As with the Pandas Series. A Pandas DataFrame object has many functions available.\n",
    "1. inspect with dir(pandasobj):"
   ]
  },
  {
   "cell_type": "code",
   "execution_count": null,
   "metadata": {
    "collapsed": true
   },
   "outputs": [],
   "source": [
    "dir(df2);"
   ]
  },
  {
   "cell_type": "code",
   "execution_count": null,
   "metadata": {
    "collapsed": true
   },
   "outputs": [],
   "source": [
    "#Find the sum across the rows\n",
    "df2['new_column']=df2.sum(axis=1)\n",
    "\n",
    "df2.head()"
   ]
  },
  {
   "cell_type": "markdown",
   "metadata": {},
   "source": [
    "***  axis=0 operates on rows,  axis=1 operates on columns***"
   ]
  },
  {
   "cell_type": "markdown",
   "metadata": {},
   "source": [
    "<img src='./Images/pandasimg1.jpg' >"
   ]
  },
  {
   "cell_type": "markdown",
   "metadata": {},
   "source": [
    "***<font color='blue'> How would we find the sum down the columns?</font>***"
   ]
  },
  {
   "cell_type": "code",
   "execution_count": null,
   "metadata": {
    "collapsed": true
   },
   "outputs": [],
   "source": [
    "df1.sum(axis=0)"
   ]
  },
  {
   "cell_type": "markdown",
   "metadata": {},
   "source": [
    "***<font color='blue'> How would we append the sums of each column to a row with the label sum?</font>***"
   ]
  },
  {
   "cell_type": "code",
   "execution_count": null,
   "metadata": {
    "collapsed": true
   },
   "outputs": [],
   "source": []
  },
  {
   "cell_type": "code",
   "execution_count": null,
   "metadata": {
    "collapsed": true
   },
   "outputs": [],
   "source": []
  },
  {
   "cell_type": "markdown",
   "metadata": {},
   "source": [
    "## Working with Files "
   ]
  },
  {
   "cell_type": "markdown",
   "metadata": {},
   "source": [
    "Now that we've gone over the basics of a DataFrame, we can now load data into Pandas and run through some analysis. <br> <br/> \n",
    "- Importing delimited data such as a .csv or .txt .xls file uses:<br> </br>\n",
    "     *pd.read_table  / pd.read_csv etc*\n",
    "     \n",
    "- We specify the delimeter to look for and other options to make uploading files smoother\n",
    "\n",
    "- We specify what we would call the missing values (much more next class)"
   ]
  },
  {
   "cell_type": "code",
   "execution_count": 3,
   "metadata": {
    "collapsed": true
   },
   "outputs": [],
   "source": [
    "#Load an excel file into pandas\n",
    "NHL_Goalies = pd.read_excel('NHLGoalies2016_2017.xls',na_values='',sheetname=0)\n",
    "GAA_ = pd.read_excel('NHLGoalies2016_2017.xls',na_values='',sheetname='5vs5')\n",
    "\n",
    "#Check out the column names for the file we just uploaded;\n",
    "NHL_Goalies.columns\n",
    "\n",
    "#Inspect the DataFrame\n",
    "NHL_Goalies.head(); NHL_Goalies.tail();"
   ]
  },
  {
   "cell_type": "code",
   "execution_count": 4,
   "metadata": {},
   "outputs": [
    {
     "data": {
      "text/plain": [
       "(95, 111)"
      ]
     },
     "execution_count": 4,
     "metadata": {},
     "output_type": "execute_result"
    }
   ],
   "source": [
    "#Check the dimensions of the dataframe\n",
    "#df.shape returns tuple (n-Rows, n-Cols).\n",
    "NHL_Goalies.shape"
   ]
  },
  {
   "cell_type": "code",
   "execution_count": 5,
   "metadata": {},
   "outputs": [
    {
     "data": {
      "text/plain": [
       "Last Name      object\n",
       "First Name     object\n",
       "Team           object\n",
       "DOB            object\n",
       "Birth City     object\n",
       "S/P            object\n",
       "Cntry          object\n",
       "Nat            object\n",
       "Ht              int64\n",
       "Wt              int64\n",
       "Sh             object\n",
       "Dft Yr        float64\n",
       "Rd            float64\n",
       "Ovrl          float64\n",
       "GP              int64\n",
       "GS              int64\n",
       "GR              int64\n",
       "W               int64\n",
       "L               int64\n",
       "T               int64\n",
       "OTL             int64\n",
       "SA              int64\n",
       "SV              int64\n",
       "GA              int64\n",
       "SV%           float64\n",
       "GAA           float64\n",
       "GSAA          float64\n",
       "MIN           float64\n",
       "SO              int64\n",
       "G               int64\n",
       "               ...   \n",
       "xGSAA         float64\n",
       "ZS%           float64\n",
       "OZS             int64\n",
       "DZS             int64\n",
       "NZS             int64\n",
       "CF              int64\n",
       "FF              int64\n",
       "SF              int64\n",
       "xGF           float64\n",
       "GF              int64\n",
       "RebF            int64\n",
       "RushF           int64\n",
       "SOS             int64\n",
       "SOG             int64\n",
       "SO SV%        float64\n",
       "SOW             int64\n",
       "SOL             int64\n",
       "NMC            object\n",
       "Status         object\n",
       "Salary        float64\n",
       "Cap Hit       float64\n",
       "Pace          float64\n",
       "1st           float64\n",
       "2nd           float64\n",
       "3rd           float64\n",
       "Star          float64\n",
       "GPS           float64\n",
       "Ginj          float64\n",
       "Injuries       object\n",
       "CHIP           object\n",
       "Length: 111, dtype: object"
      ]
     },
     "execution_count": 5,
     "metadata": {},
     "output_type": "execute_result"
    }
   ],
   "source": [
    "#inspect the data types in the columns\n",
    "NHL_Goalies.dtypes"
   ]
  },
  {
   "cell_type": "markdown",
   "metadata": {},
   "source": [
    "> The dtype object comes from NumPy, it describes the type of element in a ndarray(*n-dimensional array*). \n",
    "> Every element in a ndarray  must have the same size of bytes. For int64 and float64, they are fixed at 8 bytes. \n",
    "> But for strings, the length is not fixed. \n",
    "> So instead of saving the bytes of strings in the ndarray directly, Pandas uses the object ndarray, which saves pointers to objects, because of this the dtype of this kind ndarray is an object."
   ]
  },
  {
   "cell_type": "markdown",
   "metadata": {},
   "source": [
    "<img src='./Images/NdarrayPointer.png'>"
   ]
  },
  {
   "cell_type": "markdown",
   "metadata": {},
   "source": [
    "***<font color='blue'> In Class Mask Exercise </font> ***\n",
    "\n",
    "1. Subset the GAA DataFrame and subset the goalies from NY/NJ Area:\n",
    "        Use Areas = ['NYR','NJD','NYI','BUF']\n",
    "2. Calculate the Sum of all the Nationalities (from NHL_Goalies DataFrame) within this subset:\n",
    "\n",
    "3. Find the mean Goals Allowed in the entire dataset and the NY/NJ Area"
   ]
  },
  {
   "cell_type": "code",
   "execution_count": null,
   "metadata": {
    "collapsed": true
   },
   "outputs": [],
   "source": [
    "#Question 1\n"
   ]
  },
  {
   "cell_type": "code",
   "execution_count": null,
   "metadata": {
    "collapsed": true
   },
   "outputs": [],
   "source": [
    "#Question 2\n"
   ]
  },
  {
   "cell_type": "code",
   "execution_count": null,
   "metadata": {
    "collapsed": true
   },
   "outputs": [],
   "source": [
    "#Question 3\n"
   ]
  },
  {
   "cell_type": "markdown",
   "metadata": {},
   "source": [
    "# MatplotLib \n",
    "\n",
    "Matplotlib is a 2D plotting library in python that was designed to closely resemble Matlab;\n",
    "\n",
    "1. Allows for access to object properties that can be modified\n",
    "\n",
    "**checkout some examples : [https://matplotlib.org/examples/**\n"
   ]
  },
  {
   "cell_type": "markdown",
   "metadata": {},
   "source": [
    "<img src='./Images/figure_axes_axis_labeled.png'>"
   ]
  },
  {
   "cell_type": "markdown",
   "metadata": {},
   "source": [
    "*Matplotlib* works using a hierarchy of containers that are all adjustable:\n",
    "   1. **Figure** is the topmost container: it is the entire page for your plot\n",
    "      -- it can contain multiple plots and axes\n",
    "   2. Plotting is mostly done on the Axes container via subplot:\n",
    "      -- Each Axes object has access to many other plot controls\n",
    " \n",
    " *So in general we create plots by specifying each of the containers (topmost first) then create the graphs* <br> </br>***(not necessary for basic plots)***"
   ]
  },
  {
   "cell_type": "code",
   "execution_count": 6,
   "metadata": {},
   "outputs": [],
   "source": [
    "# This code will embed our plots inside this notebook \n",
    "\n",
    "\n",
    "#load the specific sub library we are interested in\n",
    "import matplotlib.pyplot as plt\n",
    "# %matplotlib inline"
   ]
  },
  {
   "cell_type": "code",
   "execution_count": 10,
   "metadata": {
    "scrolled": true
   },
   "outputs": [
    {
     "data": {
      "image/png": "[encoded data removed]",
      "text/plain": [
       "<matplotlib.figure.Figure at 0x114cd0d30>"
      ]
     },
     "metadata": {},
     "output_type": "display_data"
    }
   ],
   "source": [
    "#Basic plot Example 1\n",
    "#Create values incremented by .25 by using NumPy\n",
    "x2 = np.arange(0,1.25,.25) \n",
    "plt.plot(x2,x2**2)\n",
    "plt.show()"
   ]
  },
  {
   "cell_type": "markdown",
   "metadata": {},
   "source": [
    "### ***please note that you will need to call plt.show() in non inline modes ***"
   ]
  },
  {
   "cell_type": "markdown",
   "metadata": {},
   "source": [
    "when plotting we have access to line properties"
   ]
  },
  {
   "cell_type": "code",
   "execution_count": 12,
   "metadata": {},
   "outputs": [
    {
     "data": {
      "image/png": "[encoded data removed]",
      "text/plain": [
       "<matplotlib.figure.Figure at 0x114f50438>"
      ]
     },
     "metadata": {},
     "output_type": "display_data"
    }
   ],
   "source": [
    "#Change the properties of the line you are graphing\n",
    "plt.plot(x2,x2**2,color='b',marker='o')\n",
    "plt.show()"
   ]
  },
  {
   "cell_type": "code",
   "execution_count": 13,
   "metadata": {},
   "outputs": [],
   "source": [
    "#Clear the axes and the figure\n",
    "plt.cla(); plt.clf();"
   ]
  },
  {
   "cell_type": "code",
   "execution_count": 15,
   "metadata": {},
   "outputs": [
    {
     "data": {
      "image/png": "[encoded data removed]",
      "text/plain": [
       "<matplotlib.figure.Figure at 0x115146a20>"
      ]
     },
     "metadata": {},
     "output_type": "display_data"
    },
    {
     "data": {
      "image/png": "[encoded data removed]",
      "text/plain": [
       "<matplotlib.figure.Figure at 0x115212d68>"
      ]
     },
     "metadata": {},
     "output_type": "display_data"
    },
    {
     "data": {
      "image/png": "[encoded data removed]",
      "text/plain": [
       "<matplotlib.figure.Figure at 0x11535bf60>"
      ]
     },
     "metadata": {},
     "output_type": "display_data"
    }
   ],
   "source": [
    "#Basic plot Example 2 with more than 1 line\n",
    "#Create some new fake data to graph\n",
    "X = np.linspace(-np.pi,np.pi,256,endpoint=True)\n",
    "C = np.cos(X)\n",
    "S = np.sin(X)\n",
    "\n",
    "#Create a basic plot\n",
    "plt.plot(X,S)\n",
    "#plt.show()\n",
    "plt.show()\n",
    "#Once the plot object is open, you can append a new line\n",
    "plt.plot(X,C)\n",
    "plt.show()\n",
    "plt.plot(S,C)\n",
    "plt.show()"
   ]
  },
  {
   "cell_type": "code",
   "execution_count": 20,
   "metadata": {
    "scrolled": true
   },
   "outputs": [
    {
     "data": {
      "image/png": "[encoded data removed]",
      "text/plain": [
       "<matplotlib.figure.Figure at 0x115492d68>"
      ]
     },
     "metadata": {},
     "output_type": "display_data"
    }
   ],
   "source": [
    "# Another Example of Updating the properties of a line object;\n",
    "# With new data!\n",
    "x = np.arange(0,1.0,0.01) # values 0 to 1 in steps of .01\n",
    "y1 = np.sin(2*np.pi*x)\n",
    "y2 = np.sin(4*np.pi*x)\n",
    "\n",
    "# note that the two lines work in one call because of same x\n",
    "lines = plt.plot(x, y1, x, y2)\n",
    "\n",
    "# The setp() function operates on a single instance or a list of instances.\n",
    "# changes the list of the bplot\n",
    "plt.setp(lines,linewidth=1,color='g')\n",
    "plt.show()\n"
   ]
  },
  {
   "cell_type": "markdown",
   "metadata": {},
   "source": [
    "### Adjusting the x and y labels\n",
    "> <div style=\"text-align: right\"> *Use  plt.xticks & plt.yticks*</div>"
   ]
  },
  {
   "cell_type": "code",
   "execution_count": 23,
   "metadata": {},
   "outputs": [
    {
     "data": {
      "image/png": "[encoded data removed]",
      "text/plain": [
       "<matplotlib.figure.Figure at 0x114122cc0>"
      ]
     },
     "metadata": {},
     "output_type": "display_data"
    }
   ],
   "source": [
    "#Example changing the axis values (note equal lengths)\n",
    "x = [1, 2, 3, 4]\n",
    "y = [1, 4, 9, 6]\n",
    "z = [1, 8,16,24]\n",
    "\n",
    "# create a list of labels\n",
    "xlabs = ['Mark','Himanshu','Samson','Danny']\n",
    "ylabs = ['Man','Hombre','Bro','Muchacho']\n",
    "# set the plot up\n",
    "plt.plot(x,y,'go') # go == linestyle and marker arg\n",
    "#add the labels\n",
    "plt.xticks(x,xlabs,rotation='vertical')\n",
    "# ylab adjusted\n",
    "plt.yticks(y,ylabs)\n",
    "plt.show()"
   ]
  },
  {
   "cell_type": "markdown",
   "metadata": {},
   "source": [
    "## Add sub-plots to a figure"
   ]
  },
  {
   "cell_type": "markdown",
   "metadata": {},
   "source": [
    "To add a subplot we must pass several arguments to the pd.subplot() call:\n",
    "\n",
    "using:\n",
    "<div style=\"text-align: left\">***plt.subplot(row,col,plot_num)***</div>\n",
    "<div style=\"text-align: center\">What does that mean??</div>\n",
    "<div style=\"text-align: center\">\n",
    "1. rows (**1**)\n",
    "2. Number of columns (**1**) \n",
    "3. plot number (**1**)\n",
    "</div> \n",
    "<br>  </br>\n",
    "<br>  </br>\n",
    "<div style=\"text=align: right\">*let's look at this more closely* </div>\n"
   ]
  },
  {
   "cell_type": "markdown",
   "metadata": {},
   "source": [
    "<img src='./Images/plot_subplot-grid_1.png'>"
   ]
  },
  {
   "cell_type": "code",
   "execution_count": 29,
   "metadata": {},
   "outputs": [
    {
     "data": {
      "image/png": "[encoded data removed]",
      "text/plain": [
       "<matplotlib.figure.Figure at 0x11416c240>"
      ]
     },
     "metadata": {},
     "output_type": "display_data"
    }
   ],
   "source": [
    "#Adjust the figures and add new plots to a figure\n",
    "\n",
    "# The first figure\n",
    "plt.figure(1) \n",
    "   \n",
    "## REMINDER USAGE: plt.subplot(nrows, ncols, plot_number)\n",
    "\n",
    "# The first subplot of figure 1\n",
    "plt.subplot(121)\n",
    "#Our first plot\n",
    "plt.plot(x,y)\n",
    "# The SECOND subplot of figure1\n",
    "plt.subplot(122) # <---\n",
    "# Our SECOND plot\n",
    "plt.plot(x,z,color='r')\n",
    "plt.show()\n",
    "# Add a title above the first subplot\n",
    "# plt.figure(1)\n",
    "# plt.subplot(211) #<---\n",
    "# plt.title('WOAH 2 seperate graphs!!')\n",
    "# plt.show()"
   ]
  },
  {
   "cell_type": "code",
   "execution_count": null,
   "metadata": {
    "collapsed": true
   },
   "outputs": [],
   "source": []
  }
 ],
 "metadata": {
  "kernelspec": {
   "display_name": "Python 3",
   "language": "python",
   "name": "python3"
  },
  "language_info": {
   "codemirror_mode": {
    "name": "ipython",
    "version": 3
   },
   "file_extension": ".py",
   "mimetype": "text/x-python",
   "name": "python",
   "nbconvert_exporter": "python",
   "pygments_lexer": "ipython3",
   "version": "3.6.1"
  }
 },
 "nbformat": 4,
 "nbformat_minor": 2
}
