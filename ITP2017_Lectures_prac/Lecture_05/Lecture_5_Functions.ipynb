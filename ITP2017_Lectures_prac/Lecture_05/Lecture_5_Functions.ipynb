{
 "cells": [
  {
   "cell_type": "markdown",
   "metadata": {},
   "source": [
    "# String Formatting\n",
    "+ String formatting give you more control when creating strings.\n",
    "+ They allows dynamic insertion of values while maintaining the given structure.\n",
    "+ Normally used in conjunction with print()\n",
    "\n",
    "## positional arguments\n",
    "\n",
    "```python\n",
    "print('{} - {}'.format('arg1', 'arg2'))\n",
    "print('{0} - {1}'.format('arg1', 'arg2'))\n",
    "print('{1} - {0}'.format('arg1', 'arg2'))\n",
    "print('{0} - {1} - {0}'.format('arg1', 'arg2'))\n",
    "```\n",
    "\n",
    "### keyword arguments\n",
    "\n",
    "```python\n",
    "print('{name} - {age}'.format(name='Dave', age=24))\n",
    "print('{name} - {age}'.format(age=24, name='Dave'))\n",
    "```\n",
    "\n",
    "### Accessing by key/index\n",
    "```python\n",
    "print('{0[0]} {0[1]}'.format([1, 2]))\n",
    "print('(x1: {vec1[0]}|x2 : {vec2[0]}) (y1: {vec1[1]}|y2: {vec2[1]})'.format(vec1=[5, 2], vec2=[0, 3]))\n",
    "print('{0[name]} - {0[age]}'.format({'name': 'Dave', 'age': 24}))\n",
    "```\n",
    "\n",
    "### Formatting\n",
    "+ limiting decimal places\n",
    "```python\n",
    "print('{:.2f}'.format(1/3))\n",
    "print('{0:.2f} {0:.5f} {1:.3f} {1:.5f}'.format(1/3, 1/6))\n",
    "```\n",
    "+ exponent notation\n",
    "```python\n",
    "print('{:e}'.format(1/1000))\n",
    "```\n",
    "+ comma seperating by thousands\n",
    "```python\n",
    "print('{:,}'.format(1234567890))\n",
    "```\n",
    "+ aligning text\n",
    "    + left align\n",
    "```python\n",
    "print('|{:<30}|'.format('first'))\n",
    "print('|{:<30}|'.format('second'))\n",
    "```\n",
    "    + center align\n",
    "```python\n",
    "print('|{:^30}|'.format('first'))\n",
    "print('|{:^30}|'.format('second'))\n",
    "```\n",
    "    + right align\n",
    "```python\n",
    "print('|{:>30}|'.format('first'))\n",
    "print('|{:>30}|'.format('second'))\n",
    "```\n",
    "\n",
    "### Unpacking (\\*&lt;sequence_type&gt;) - not limited to string formatting, more on this at the end\n",
    "```python\n",
    "print('{0}, {1}, {2}'.format(*'ABC'))\n",
    "print('{0}, {1}, {2}'.format(*['x', 'y', 'z']))\n",
    "print('{0}, {1}, {2}'.format(*(1, 2, 3)))\n",
    "```"
   ]
  },
  {
   "cell_type": "code",
   "execution_count": 12,
   "metadata": {},
   "outputs": [
    {
     "ename": "ValueError",
     "evalue": "empty separator",
     "output_type": "error",
     "traceback": [
      "\u001b[0;31m---------------------------------------------------------------------------\u001b[0m",
      "\u001b[0;31mValueError\u001b[0m                                Traceback (most recent call last)",
      "\u001b[0;32m<ipython-input-12-68210a48822c>\u001b[0m in \u001b[0;36m<module>\u001b[0;34m()\u001b[0m\n\u001b[0;32m----> 1\u001b[0;31m \u001b[0;34m'ABC'\u001b[0m\u001b[0;34m.\u001b[0m\u001b[0msplit\u001b[0m\u001b[0;34m(\u001b[0m\u001b[0;34m''\u001b[0m\u001b[0;34m)\u001b[0m\u001b[0;34m\u001b[0m\u001b[0m\n\u001b[0m",
      "\u001b[0;31mValueError\u001b[0m: empty separator"
     ]
    }
   ],
   "source": [
    "'A' 'B' 'C'"
   ]
  },
  {
   "cell_type": "markdown",
   "metadata": {
    "collapsed": true
   },
   "source": [
    "# Functions\n",
    "\n",
    "## Function Calls\n",
    "<font color='#0000AA'>function_name</font>(<font color='#00AA00'>arguments</font>)\n",
    "\n",
    "\n",
    "\n",
    "We have already encountered a number of functions such as:\n",
    "\n",
    "```python\n",
    "type(32)\n",
    "'banana'.find('an')\n",
    "len([1, 2, 3])\n",
    "print('I am an argument')\n",
    "```"
   ]
  },
  {
   "cell_type": "code",
   "execution_count": 15,
   "metadata": {},
   "outputs": [
    {
     "name": "stdout",
     "output_type": "stream",
     "text": [
      "<class 'int'>\n",
      "1\n",
      "3\n",
      "I am an argument\n"
     ]
    }
   ],
   "source": [
    "print(type(32))\n",
    "print('banana'.find('an'))\n",
    "print(len([1, 2, 3]))\n",
    "print('I am an argument')"
   ]
  },
  {
   "cell_type": "markdown",
   "metadata": {},
   "source": [
    "## Built In Functions\n",
    "\n",
    "Python has build in functions which are always available\n",
    "\n",
    "+ These are functions which solve common problems\n",
    "\n",
    "```python\n",
    "number_list = [5, 2, 1, 4, 0, 3]\n",
    "max(number_list)\n",
    "min(number_list)\n",
    "len(number_list)\n",
    "range(start, end, step)\n",
    "```\n",
    "\n",
    "+ There are many more of these than are listed above"
   ]
  },
  {
   "cell_type": "code",
   "execution_count": 17,
   "metadata": {},
   "outputs": [
    {
     "data": {
      "text/plain": [
       "6"
      ]
     },
     "execution_count": 17,
     "metadata": {},
     "output_type": "execute_result"
    }
   ],
   "source": [
    "number_list = [5, 2, 1, 4, 0, 3]\n",
    "max(number_list)\n",
    "min(number_list)\n",
    "len(number_list)\n",
    "# range(start, end, step)"
   ]
  },
  {
   "cell_type": "markdown",
   "metadata": {},
   "source": [
    "## User Defined Functions\n",
    "\n",
    "<font color='#AA00AA'>**def** </font> <font color='#0000AA'>function_name</font>(<font color='#00AA00'>argument(s)</font>)\n",
    "+ <font color='#AA00AA'>**def**</font> is a reserved word, it lets python know that a function is being defined\n",
    "Create new functions using a function definition\n",
    "+ <font color='#0000AA'>function_name</font> can be any non reverved word\n",
    "    + It should be self explaining\n",
    "    + It should not be overly long\n",
    "+ <font color='#00AA00'>arguments</font> are variables which are required by the function\n",
    "\n",
    "```python\n",
    "def function_name(args/parameters/inputs):\n",
    "    statement\t\t\t\n",
    "    statement\n",
    "    …\n",
    "    return something # by default this returns None\n",
    "```  \n",
    "\n",
    "### Example\n",
    "```python\n",
    "def say_hello(name):\n",
    "    print(\"Hello\",name)\n",
    "    \n",
    "say_hello(\"Dave\")\n",
    "```"
   ]
  },
  {
   "cell_type": "code",
   "execution_count": 20,
   "metadata": {},
   "outputs": [
    {
     "name": "stdout",
     "output_type": "stream",
     "text": [
      "Hello Dave\n"
     ]
    }
   ],
   "source": [
    "def say_hello(name):\n",
    "    print(\"Hello\",name)\n",
    "\n",
    "say_hello(\"Dave\")\n",
    "\n",
    "# def print_list(_list_of_numbers):\n",
    "#     print(list_of_numbers[0])\n",
    "#     print(list_of_numbers[1])\n",
    "#     print(list_of_numbers[2])\n",
    "\n",
    "    \n",
    "    \n",
    "# list_of_numbers = [1, 2, 3]\n",
    "\n",
    "# print_list(list_of_numbers)\n",
    "\n",
    "# for i, v in enumerate(list_of_numbers):\n",
    "#     list_of_numbers[i] = v * 4\n",
    "\n",
    "# print_list(list_of_numbers)"
   ]
  },
  {
   "cell_type": "markdown",
   "metadata": {},
   "source": [
    "## return\n",
    "\n",
    "return is a keyword which indicates that a value must be passed back by the function\n",
    "```python\n",
    "def add(a, b):\n",
    "    sum = a + b\n",
    "    return sum\n",
    "\n",
    "result = add(2, 4) \n",
    "print(result)\n",
    "```\n",
    "\n",
    "The return keyword allows the results of functions to be used later in the program\n",
    "\n",
    "If return is not specified the function will return None\n",
    "```python\n",
    "def no_return():\n",
    "    statement = \"hello\"\n",
    "\n",
    "print(no_return())\n",
    "```"
   ]
  },
  {
   "cell_type": "code",
   "execution_count": 22,
   "metadata": {},
   "outputs": [
    {
     "name": "stdout",
     "output_type": "stream",
     "text": [
      "None\n"
     ]
    }
   ],
   "source": [
    "def no_return():\n",
    "    statement = \"hello\"\n",
    "\n",
    "print(no_return())"
   ]
  },
  {
   "cell_type": "markdown",
   "metadata": {},
   "source": [
    "## Order Matters\n",
    "\n",
    "+ Functions must be defined before they are used\n",
    "+ The following code will produce a ‘NameError’\n",
    "+ When add is called in the first statement the function does not yet exist\n",
    "\n",
    "```python\n",
    "add2(1, 2)\n",
    "\n",
    "def add2(a, b):\n",
    "    sum = a+b\n",
    "\treturn sum\n",
    "```"
   ]
  },
  {
   "cell_type": "code",
   "execution_count": 24,
   "metadata": {},
   "outputs": [
    {
     "data": {
      "text/plain": [
       "3"
      ]
     },
     "execution_count": 24,
     "metadata": {},
     "output_type": "execute_result"
    }
   ],
   "source": [
    "\n"
   ]
  },
  {
   "cell_type": "markdown",
   "metadata": {},
   "source": [
    "## Arguments by keyword vs position\n",
    "\n",
    "```python\n",
    "def print_full_name(name='John', surname='Doe'):\n",
    "    print(name, sur)\n",
    "\t\n",
    "print_full_name()\n",
    "print_full_name('David', 'Smith')\n",
    "print_full_name(surname='Jenkins')\n",
    "print_full_name(surname='Mills', name='Adam')\n",
    "```\n",
    "+ Keyword works well for documentation\n",
    "+ Set default values\n",
    "+ The order of the arguments does not matter if keywords are used\n",
    "+ Do not need all arguments as default values are used"
   ]
  },
  {
   "cell_type": "code",
   "execution_count": 29,
   "metadata": {},
   "outputs": [
    {
     "name": "stdout",
     "output_type": "stream",
     "text": [
      "Adam Mills\n"
     ]
    }
   ],
   "source": [
    "def print_full_name(name='John', surname='Doe'):\n",
    "    print(name, surname)\n",
    "\n",
    "# print_full_name()\n",
    "# print_full_name('David', 'Smith')\n",
    "# print_full_name(surname='Jenkins')\n",
    "print_full_name(surname='Mills', name='Adam')"
   ]
  },
  {
   "cell_type": "markdown",
   "metadata": {},
   "source": [
    "## Scope\n",
    "\n",
    "The scope of a variable refers to where the variable is valid and can be used.\n",
    "\n",
    "In this example the variable is defined inside a function. It will not be accessable from outside of the function as the variable is out of scope.\n",
    "\n",
    "```python\n",
    "def print_something():\n",
    "    in_function_var = 5\n",
    "    print(in_function_var)\n",
    "print_something(in_function_var)\n",
    "print(in_function_var)\n",
    "```\n",
    "It is possible to use a variable declared outside of a function in that function.\n",
    "\n",
    "```python\n",
    "a = 10\n",
    "def print_something():\n",
    "    print('in function', id(a), a)\n",
    "print_something()\n",
    "print('out function', id(a), a)\n",
    "```\n",
    "If a new value is given to the variable which was declared outside of the function in the function. A new variable will be created with the same name that is only valid inside the function.\n",
    "\n",
    "```python\n",
    "a = 10\n",
    "def print_something():\n",
    "    a = 5\n",
    "    print('in function', id(a), a)\n",
    "print_something()\n",
    "print('out function', id(a), a)\n",
    "```\n",
    "Any attempt to modify the value of a variable declared outside of the function will result in an error as the values are read only.\n",
    "\n",
    "```python\n",
    "a = 10\n",
    "def print_something():\n",
    "    a += 1\n",
    "    print('in function', id(a), a)\n",
    "print_something()\n",
    "print('out function', id(a), a)\n",
    "```"
   ]
  },
  {
   "cell_type": "code",
   "execution_count": 33,
   "metadata": {},
   "outputs": [
    {
     "ename": "UnboundLocalError",
     "evalue": "local variable 'a' referenced before assignment",
     "output_type": "error",
     "traceback": [
      "\u001b[0;31m---------------------------------------------------------------------------\u001b[0m",
      "\u001b[0;31mUnboundLocalError\u001b[0m                         Traceback (most recent call last)",
      "\u001b[0;32m<ipython-input-33-78e5e0802553>\u001b[0m in \u001b[0;36m<module>\u001b[0;34m()\u001b[0m\n\u001b[1;32m      3\u001b[0m     \u001b[0ma\u001b[0m \u001b[0;34m+=\u001b[0m \u001b[0;36m1\u001b[0m\u001b[0;34m\u001b[0m\u001b[0m\n\u001b[1;32m      4\u001b[0m     \u001b[0mprint\u001b[0m\u001b[0;34m(\u001b[0m\u001b[0;34m'in function'\u001b[0m\u001b[0;34m,\u001b[0m \u001b[0mid\u001b[0m\u001b[0;34m(\u001b[0m\u001b[0ma\u001b[0m\u001b[0;34m)\u001b[0m\u001b[0;34m,\u001b[0m \u001b[0ma\u001b[0m\u001b[0;34m)\u001b[0m\u001b[0;34m\u001b[0m\u001b[0m\n\u001b[0;32m----> 5\u001b[0;31m \u001b[0mprint_something\u001b[0m\u001b[0;34m(\u001b[0m\u001b[0;34m)\u001b[0m\u001b[0;34m\u001b[0m\u001b[0m\n\u001b[0m\u001b[1;32m      6\u001b[0m \u001b[0mprint\u001b[0m\u001b[0;34m(\u001b[0m\u001b[0;34m'out function'\u001b[0m\u001b[0;34m,\u001b[0m \u001b[0mid\u001b[0m\u001b[0;34m(\u001b[0m\u001b[0ma\u001b[0m\u001b[0;34m)\u001b[0m\u001b[0;34m,\u001b[0m \u001b[0ma\u001b[0m\u001b[0;34m)\u001b[0m\u001b[0;34m\u001b[0m\u001b[0m\n",
      "\u001b[0;32m<ipython-input-33-78e5e0802553>\u001b[0m in \u001b[0;36mprint_something\u001b[0;34m()\u001b[0m\n\u001b[1;32m      1\u001b[0m \u001b[0ma\u001b[0m \u001b[0;34m=\u001b[0m \u001b[0;36m10\u001b[0m\u001b[0;34m\u001b[0m\u001b[0m\n\u001b[1;32m      2\u001b[0m \u001b[0;32mdef\u001b[0m \u001b[0mprint_something\u001b[0m\u001b[0;34m(\u001b[0m\u001b[0;34m)\u001b[0m\u001b[0;34m:\u001b[0m\u001b[0;34m\u001b[0m\u001b[0m\n\u001b[0;32m----> 3\u001b[0;31m     \u001b[0ma\u001b[0m \u001b[0;34m+=\u001b[0m \u001b[0;36m1\u001b[0m\u001b[0;34m\u001b[0m\u001b[0m\n\u001b[0m\u001b[1;32m      4\u001b[0m     \u001b[0mprint\u001b[0m\u001b[0;34m(\u001b[0m\u001b[0;34m'in function'\u001b[0m\u001b[0;34m,\u001b[0m \u001b[0mid\u001b[0m\u001b[0;34m(\u001b[0m\u001b[0ma\u001b[0m\u001b[0;34m)\u001b[0m\u001b[0;34m,\u001b[0m \u001b[0ma\u001b[0m\u001b[0;34m)\u001b[0m\u001b[0;34m\u001b[0m\u001b[0m\n\u001b[1;32m      5\u001b[0m \u001b[0mprint_something\u001b[0m\u001b[0;34m(\u001b[0m\u001b[0;34m)\u001b[0m\u001b[0;34m\u001b[0m\u001b[0m\n",
      "\u001b[0;31mUnboundLocalError\u001b[0m: local variable 'a' referenced before assignment"
     ]
    }
   ],
   "source": [
    "CONST = 10\n",
    "def print_something():\n",
    "    a += 1\n",
    "    print('in function', id(a), a)\n",
    "print_something()\n",
    "print('out function', id(a), a)"
   ]
  },
  {
   "cell_type": "markdown",
   "metadata": {},
   "source": [
    "## Why Use Functions\n",
    "\n",
    "+ Code organization\n",
    "+ Code reusability\n",
    "+ Functions can accept input that differs each time the function is executed\n",
    "+ Easy to update/modify\n",
    "+ Easier to understand and read later\n",
    "+ Can return a result"
   ]
  },
  {
   "cell_type": "markdown",
   "metadata": {},
   "source": [
    "## Design Considerations\n",
    "\n",
    "+ Functions should be short and easy to understand\n",
    "+ Should have a single purpose\n",
    "    + One function doing 10 things is bad\n",
    "    + Rather have 10 functions\n",
    "\n",
    "+ Functions should be independent\n",
    "    + Use parameters to store arguments \n",
    "+ Use return to provide the output of the function"
   ]
  },
  {
   "cell_type": "markdown",
   "metadata": {},
   "source": [
    "## Unpacking\n",
    "\\*&lt;sequential_type&gt;\n",
    "\n",
    "+ Unpacking is the process of converting a list into individual values.\n",
    "+ We have seen examples of this when we covered string formatting at the start of the lecture.\n",
    "+ Another example was seen when a dictionary item is assigned to two variables in a for loop.\n",
    "```python\n",
    "d = {'a': 1, 'b': 2}\n",
    "for key, value in d.items():\n",
    "    pass\n",
    "key, value = ('a', 1)\n",
    "```\n",
    "\n",
    "+ It is possible to force python to unpack a sequential type into individual values.\n",
    "+ To do this we add a *\\** before the sequential type\n",
    "\n",
    "```python\n",
    "def print_sum(a, b, c, d):\n",
    "    print(a + b + c + d)\n",
    "li = [1, 2, 3, 4]\n",
    "sum_(li)\n",
    "\n",
    "def print_sum(a, b, c, d):\n",
    "    print(a + b + c + d)\n",
    "li = [1, 2, 3, 4]\n",
    "sum_(*li)\n",
    "```\n"
   ]
  },
  {
   "cell_type": "code",
   "execution_count": 38,
   "metadata": {},
   "outputs": [
    {
     "name": "stdout",
     "output_type": "stream",
     "text": [
      "10\n",
      "a\n"
     ]
    }
   ],
   "source": [
    "def print_sum(a, b, c, d):\n",
    "    print(a + b + c + d)\n",
    "li = [1, 2, 3, 4]\n",
    "print_sum(*li)\n",
    "\n",
    "def some_funct():\n",
    "    pass\n",
    "    \n",
    "print('a')\n",
    "\n"
   ]
  },
  {
   "cell_type": "markdown",
   "metadata": {},
   "source": [
    "## \\*args, \\*\\*kwargs\n",
    "\n",
    "Sometimes it is not possible to know in advance how many arguments are going to be passed to a function.\n",
    "This is solved by using \\*args for ordered arguments and \\*\\*kwargs for keyword arguments.\n",
    "\n",
    "+ many of the set comparison methods allow you to pass a variable number of sets to the method\n",
    "+ set.intesection(*[sets])\n",
    "```python\n",
    "set_a = set(['a', 'b', 'c', 'd'])\n",
    "set_b = set(['a', 'z'])\n",
    "set_c = set(['a', 'b', 'c'])\n",
    "set_d = set(['a', 'c'])\n",
    "print(set_a.intersection(set_b))\n",
    "print(set_a.intersection(set_c, set_d))\n",
    "print(set_a.intersection(set_b, set_c, set_d))\n",
    "```\n",
    "+ \\*args\n",
    "```python\n",
    "def print_list(v1, v2, *args):\n",
    "    print(v2, v3, args)\n",
    "    for arg in args:\n",
    "        print(arg)\n",
    "print_list(*[1, 2, 3, 4, 5])\n",
    "```\n",
    "+ Lets create a function which adds n numbers together\n",
    "    + add \\*args to the argument list\n",
    "    + \\*args converts all additional arguments into a tuple\n",
    "    + iterate over args and incriment a counter\n",
    "\n",
    "```python\n",
    "def sum_numbers(a, b)\n",
    "    return a + b\n",
    "```\n",
    "\n",
    "+ \\*\\*kwargs is identical except that it uses keyword arguments and stores them in a dictionary instead of a tuple.\n",
    "\n",
    "```python\n",
    "def print_student_grades(**kwargs):\n",
    "    for kw, value in kwargs:\n",
    "        print('{} got {}'.format(kw, value)\n",
    "print_student_grades(amy=5, mark=3, john=4, jackie=4)\n",
    "```"
   ]
  },
  {
   "cell_type": "code",
   "execution_count": 62,
   "metadata": {},
   "outputs": [
    {
     "name": "stdout",
     "output_type": "stream",
     "text": [
      "13\n",
      "amy           got 5\n",
      "mark          got 3\n",
      "john          got 4\n",
      "jackieakakaks got 4\n"
     ]
    }
   ],
   "source": [
    "def print_student_grades(**kwargs):\n",
    "    longest = max([len(x) for x in kwargs.keys()])\n",
    "    print(longest)\n",
    "    for kw, value in kwargs.items():\n",
    "        print('{:<{longest_name}} got {}'.format(kw, value, longest_name=longest))\n",
    "print_student_grades(amy=5, mark=3, john=4, jackieakakaks=4)\n",
    "\n",
    "\n",
    "# def sum_numbers(*args):\n",
    "#     sum_ = 0\n",
    "#     for arg in args:\n",
    "#         sum_ += arg\n",
    "#     return sum_\n",
    "# a = [x for x in range(10)]\n",
    "# print(a)\n",
    "# print(sum_numbers(*a))"
   ]
  },
  {
   "cell_type": "markdown",
   "metadata": {},
   "source": [
    "## Recursion\n",
    "\n",
    "This is an alternative to iterations (for/while loops). It works by splitting a problem into smaller versions of itself until a base case is reached.\n",
    "\n",
    "Structure:\n",
    "```python\n",
    "def function(argument/s)\n",
    "    base case -> conditional\n",
    "        return lowest state\n",
    "    return function(smaller argument)\n",
    "```\n",
    "Below is an example of a function which will calculate the factorial of a number (n!).\n",
    "\n",
    "eg: 5! = 5 \\* 4 \\* 3 \\* 2 \\* 1\n",
    "\n",
    "```python\n",
    "def factorial(n):\n",
    "    if n == 1:\n",
    "        return 1\n",
    "    return n * factorial(n-1)\n",
    "print(factorial(5))\n",
    "```\n",
    "Below is an example of a recursive solution to calculating fibanacci numbers. You have already seen an iterative approach to doing this.\n",
    "\n",
    "```python\n",
    "def fibonacci(n):\n",
    "    if n == 0:\n",
    "        return 0\n",
    "    elif n == 1:\n",
    "        return 1\n",
    "    return fibonacci(n-1) + fibonacci(n-2)\n",
    "print(fibonacci(6))\n",
    "\n",
    "```"
   ]
  },
  {
   "cell_type": "code",
   "execution_count": 65,
   "metadata": {},
   "outputs": [
    {
     "name": "stdout",
     "output_type": "stream",
     "text": [
      "6\n",
      "5\n",
      "4\n",
      "3\n",
      "2\n",
      "1\n",
      "0\n",
      "1\n",
      "2\n",
      "1\n",
      "0\n",
      "3\n",
      "2\n",
      "1\n",
      "0\n",
      "1\n",
      "4\n",
      "3\n",
      "2\n",
      "1\n",
      "0\n",
      "1\n",
      "2\n",
      "1\n",
      "0\n",
      "8\n"
     ]
    }
   ],
   "source": [
    "def fibonacci(n):\n",
    "    print(n)\n",
    "    if n == 0:\n",
    "        return 0\n",
    "    elif n == 1:\n",
    "        return 1\n",
    "    return fibonacci(n-1) + fibonacci(n-2)\n",
    "print(fibonacci(6))\n",
    "\n",
    "\n",
    "# def factorial(n):\n",
    "#     if n == 1:\n",
    "#         return 1\n",
    "#     return n * factorial(n-1)\n",
    "# print(factorial(5))\n",
    "\n",
    "# factorial(5)\n",
    "# 5 * factorial(4)\n",
    "# 5 * factorial(4) * factorial(3)\n",
    "# 5 * factorial(4) * factorial(3) * factorial(2)\n",
    "# 5 * factorial(4) * factorial(3) * factorial(2) * factorial(1)\n",
    "# 5 * factorial(4) * factorial(3) * factorial(2) * 1\n",
    "# 5 * factorial(4) * factorial(3) * 2\n",
    "# 5 * factorial(4) * 6\n",
    "# 5 * 30\n",
    "# 120\n"
   ]
  },
  {
   "cell_type": "markdown",
   "metadata": {},
   "source": [
    "## Example - cleaning up sequences\n",
    "\n",
    "You are provided with a reference sequence and several sequences to compare to the reference.\n",
    "Normally these would be provided by a file (text file, comma seperated file, ...).\n",
    "+ reference\n",
    "    + ATG\\*A\\*\\*\\*CC\\*A\\*T\\*C\\*\\*C\\*\n",
    "+ sequences\n",
    "    + ATG\\*A\\*\\*\\*CC\\*A\\*T\\*C\\*\\*C\\*\n",
    "    + ATG\\*T\\*\\*\\*CC\\*A\\*T\\*C\\*\\*C\\*\n",
    "    + ATG\\*A\\*\\*\\*CC\\*A\\*T\\*C\\*\\*C\\*\n",
    "    + ATG\\*A\\*\\*\\*CC\\*A\\*T\\*C\\*\\*\\*\\*\n",
    "\n",
    "Example Reference sequence:\n",
    "+ ATG\\*A\\*\\*\\*CC\\*A\\*T\\*C\\*\\*C\\*\n",
    "\n",
    "Example Sequences:\n",
    "\n",
    "+ ATG\\*A\\*\\*\\*CC\\*A\\*T\\*C\\*\\*C\\*\t\t-\tsame as reference\n",
    "+ ATG\\*T\\*\\*\\*CC\\*A\\*T\\*C\\*\\*C\\*\t\t-\tdiffers from reference\n",
    "+ ATG\\*A\\*\\*\\*CC\\*A\\*T\\*C\\*\\*C\\*\t\t-\tsame as reference\n",
    "+ ATG\\*A\\*\\*\\*CC\\*A\\*T\\*C\\*\\*\\*\\*\t\t-\tdiffers from reference\n",
    "\n",
    "Step 1: Identify columns that contain a '\\*' in the reference sequence.\n",
    "\n",
    "| A | T | G | <font color='red'>\\*</font>| A | <font color='red'>\\*</font>| <font color='red'>\\*</font>| <font color='red'>\\*</font>| C | C | <font color='red'>\\*</font>| A | <font color='red'>\\*</font>| T | <font color='red'>\\*</font>| C | <font color='red'>\\*</font>| <font color='red'>\\*</font>| C | <font color='red'>\\*</font>|\n",
    "|---|---|---|---|---|---|---|---|---|---|---|---|---|---|---|---|---|---|---|---|\n",
    "| A | T | G | \\*| A | \\*| \\*| \\*| C | C | \\*| A | \\*| T | \\*| C | \\*| \\*| C | \\*|\n",
    "| A | T | G | \\*| <font color='blue'>T</font> | \\*| \\*| \\*| C | C | \\*| A | \\*| T | \\*| C | \\*| \\*| C | \\*|\n",
    "| A | T | G | \\*| A | \\*| \\*| \\*| C | C | \\*| A | \\*| T | \\*| C | \\*| \\*| C | \\*|\n",
    "| A | T | G | \\*| A | \\*| \\*| \\*| C | C | \\*| A | \\*| T | \\*| C | \\*| \\*| <font color='blue'>\\*</font>| \\*|\n",
    "\n",
    "Step 2: remove these columns from all the sequences.\n",
    "\n",
    "| A | T | G | A | C | C | A | T | C | C |\n",
    "|---|---|---|---|---|---|---|---|---|---|---|---|---|---|---|---|---|---|---|---|\n",
    "| A | T | G | A | C | C | A | T | C | C | \n",
    "| A | T | G | <font color='blue'>T</font> | C | C | A | T | C | C |\n",
    "| A | T | G | A | C | C | A | T | C | C | \n",
    "| A | T | G | A | C | C | A | T | C | <font color='blue'>\\*</font>| \n",
    "\n",
    "Step 3: fill in the remaining '\\*' with the character from the reference sequence.\n",
    "\n",
    "| A | T | G | A | C | C | A | T | C | C |\n",
    "|---|---|---|---|---|---|---|---|---|---|---|---|---|---|---|---|---|---|---|---|\n",
    "| A | T | G | A | C | C | A | T | C | C | \n",
    "| A | T | G | <font color='blue'>T</font> | C | C | A | T | C | C |\n",
    "| A | T | G | A | C | C | A | T | C | C | \n",
    "| A | T | G | A | C | C | A | T | C | <font color='orange'>C</font>| "
   ]
  }
 ],
 "metadata": {
  "kernelspec": {
   "display_name": "Python 3",
   "language": "python",
   "name": "python3"
  },
  "language_info": {
   "codemirror_mode": {
    "name": "ipython",
    "version": 3
   },
   "file_extension": ".py",
   "mimetype": "text/x-python",
   "name": "python",
   "nbconvert_exporter": "python",
   "pygments_lexer": "ipython3",
   "version": "3.6.1"
  }
 },
 "nbformat": 4,
 "nbformat_minor": 2
}
